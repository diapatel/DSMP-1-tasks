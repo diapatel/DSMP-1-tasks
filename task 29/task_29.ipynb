{
  "nbformat": 4,
  "nbformat_minor": 0,
  "metadata": {
    "colab": {
      "provenance": []
    },
    "kernelspec": {
      "name": "python3",
      "display_name": "Python 3"
    },
    "language_info": {
      "name": "python"
    }
  },
  "cells": [
    {
      "cell_type": "markdown",
      "source": [
        "# Perform EDA on below insurance dataset\n",
        "\n",
        "Link: https://www.kaggle.com/datasets/thedevastator/insurance-claim-analysis-demographic-and-health\n",
        "\n",
        "Perform All steps of EDA and document conclusions and then perform feature engineering."
      ],
      "metadata": {
        "id": "l_QGPTNfjCjI"
      }
    },
    {
      "cell_type": "code",
      "source": [],
      "metadata": {
        "id": "Vjy-pnhkjEuL"
      },
      "execution_count": null,
      "outputs": []
    }
  ]
}