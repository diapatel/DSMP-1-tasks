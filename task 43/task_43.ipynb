{
  "nbformat": 4,
  "nbformat_minor": 0,
  "metadata": {
    "colab": {
      "provenance": []
    },
    "kernelspec": {
      "name": "python3",
      "display_name": "Python 3"
    },
    "language_info": {
      "name": "python"
    }
  },
  "cells": [
    {
      "cell_type": "code",
      "execution_count": null,
      "metadata": {
        "id": "DPv5xek6h83n"
      },
      "outputs": [],
      "source": []
    },
    {
      "cell_type": "markdown",
      "source": [
        "\n",
        "1. A company claims that their email marketing campaign has a 15% click-through rate. If you randomly select 100 people to receive the email, what is the probability that exactly 20 will click through to the website?\n",
        "2. A researcher is investigating whether a new medication improves patient outcomes. The medication has a success rate of 75%. If the researcher enrolls 50 patients in the study, what is the probability that fewer than 35 will have a positive outcome?\n",
        "\n",
        "3. A website offers a premium subscription service with a 20% sign-up rate. If you randomly select 500 visitors to the website, what is the probability that between 90 and 110 will sign up for the premium service?\n",
        "\n",
        "4. A school district is investigating the effectiveness of a new reading program. The program has a success rate of 70%. If the district enrolls 200 students in the program, what is the probability that more than 140 will show significant improvement in reading skills?\n",
        "\n",
        "\n",
        "5. A factory produces electronic components with a defect rate of 5%. If a shipment of 200 components is sent out, what is the probability that fewer than 10 will be defective?\n",
        "\n",
        "6. A survey shows that 70% of people prefer chocolate ice cream over vanilla ice cream. If you randomly survey one person, what is the probability that they prefer vanilla ice cream?\n",
        "\n",
        "\n",
        "7. A software company releases a new product with a bug rate of 2%. If 10,000 copies of the product are sold, what is the probability that at least 250 will have a bug?\n",
        "\n",
        "8. According to data from the National Center for Health Statistics (NCHS), the average height for adult men aged 20 years and over in the United States is approximately 69.2 inches with a standard deviation of approximately 2.9 inches. If you randomly select a sample of 50 adult men aged 20 years and over, what is the probability that the sample mean height is greater than 70 inches?\n",
        "\n",
        "\n",
        "Central Limit Theorem:\n",
        "9. A company claims that the average salary of its employees is 75,000 with a standard deviation of 10,000. If you randomly select 100 employees, what is the probability that the sample mean salary is less than 72,500?\n",
        "\n",
        "10. A restaurant claims that the average wait time for a table is 15 minutes with a standard deviation of 3 minutes. If you randomly survey 50 customers, what is the probability that the sample mean wait time is greater than 16 minutes?\n",
        "Bernoulli Distribution:\n"
      ],
      "metadata": {
        "id": "iGYPlZi3iATZ"
      }
    },
    {
      "cell_type": "code",
      "source": [
        "# Q1\n",
        "import numpy as np\n",
        "from scipy.stats import binom\n",
        "from scipy.special import comb\n",
        "\n",
        "n = 100\n",
        "p = 0.15\n",
        "k = 20\n",
        "\n",
        "prob = binom.pmf(k, n, p)\n",
        "print(prob)\n",
        "\n",
        "\n",
        "# P(X=20) = (100 choose 20) * 0.15^20 * 0.85^80\n",
        "result = comb(n, k, exact=True) * ((p)**k) * (1-p)**(n-k)\n",
        "print(result)"
      ],
      "metadata": {
        "id": "oF5E7XY8iKMA"
      },
      "execution_count": null,
      "outputs": []
    },
    {
      "cell_type": "code",
      "source": [],
      "metadata": {
        "id": "3eg0iRvJ83zF"
      },
      "execution_count": null,
      "outputs": []
    },
    {
      "cell_type": "code",
      "source": [
        "# Q2\n",
        "from scipy.stats import binom\n",
        "from scipy.special import comb\n",
        "\n",
        "n = 50\n",
        "p = 0.75\n",
        "k = 34\n",
        "\n",
        "prob = binom.cdf(k, n, p)\n",
        "print(prob)\n",
        "\n",
        "# P(X ≤ k) = ∑[i=0 to k] (n choose i) * p^i * (1-p)^(n-i)\n",
        "result=0\n",
        "for i in range(k+1):\n",
        "    result += comb(n, i, exact=True) * ((p)**i) * (1-p)**(n-i)\n",
        "print(result)"
      ],
      "metadata": {
        "id": "iN8-hL3s831s"
      },
      "execution_count": null,
      "outputs": []
    },
    {
      "cell_type": "code",
      "source": [
        "b"
      ],
      "metadata": {
        "id": "i2mCYDcY833r"
      },
      "execution_count": null,
      "outputs": []
    },
    {
      "cell_type": "code",
      "source": [
        "# Q3\n",
        "from scipy.stats import binom\n",
        "from scipy.special import comb\n",
        "\n",
        "\n",
        "n = 500\n",
        "p = 0.20\n",
        "k1 = 90\n",
        "k2 = 110\n",
        "\n",
        "prob = binom.cdf(k2, n, p) - binom.cdf(k1-1, n, p)\n",
        "print(prob)\n",
        "\n",
        "def pxeqlessthank(k, n, p):\n",
        "    result=0\n",
        "    for i in range(k+1):\n",
        "        result += comb(n, i, exact=True) * ((p)**i) * (1-p)**(n-i)\n",
        "    return result\n",
        "\n",
        "# P(k1 ≤ X ≤ k2) = P(X ≤ k2) - P(X < k1) = F(k2) - F(k1-1)\n",
        "print(pxeqlessthank(k2, n, p)-pxeqlessthank(k1-1, n, p))"
      ],
      "metadata": {
        "id": "Ke5pI_jK838n"
      },
      "execution_count": null,
      "outputs": []
    },
    {
      "cell_type": "code",
      "source": [],
      "metadata": {
        "id": "yTnxY1Zh9Pn_"
      },
      "execution_count": null,
      "outputs": []
    },
    {
      "cell_type": "code",
      "source": [
        "# Q4\n",
        "from scipy.stats import binom\n",
        "\n",
        "n = 200\n",
        "p = 0.70\n",
        "k = 140\n",
        "\n",
        "prob = 1 - binom.cdf(k, n, p)\n",
        "print(prob)\n",
        "\n",
        "# P(X > k) = 1 - P(X ≤ k) = 1 - F(k)\n",
        "print(1 - pxeqlessthank(k, n, p))"
      ],
      "metadata": {
        "id": "L3mjRGj89PqU"
      },
      "execution_count": null,
      "outputs": []
    },
    {
      "cell_type": "code",
      "source": [],
      "metadata": {
        "id": "vpMzKF1B9Puo"
      },
      "execution_count": null,
      "outputs": []
    },
    {
      "cell_type": "code",
      "source": [
        "# Q5\n",
        "\n",
        "from scipy.stats import binom\n",
        "\n",
        "n = 200\n",
        "p = 0.05\n",
        "k = 9\n",
        "\n",
        "prob = binom.cdf(k, n, p)\n",
        "print(prob)\n"
      ],
      "metadata": {
        "id": "f2VR6EFk9PwT"
      },
      "execution_count": null,
      "outputs": []
    },
    {
      "cell_type": "code",
      "source": [],
      "metadata": {
        "id": "0XxjGRYv9PyW"
      },
      "execution_count": null,
      "outputs": []
    },
    {
      "cell_type": "markdown",
      "source": [
        "q6: 0.3"
      ],
      "metadata": {
        "id": "YjyI5pGJ9fkZ"
      }
    },
    {
      "cell_type": "code",
      "source": [],
      "metadata": {
        "id": "H-WnKvBN9eJm"
      },
      "execution_count": null,
      "outputs": []
    },
    {
      "cell_type": "code",
      "source": [
        "# Q7\n",
        "from scipy.stats import binom\n",
        "\n",
        "n = 10000  # number of copies sold\n",
        "p = 0.02   # probability of a single copy having a bug\n",
        "x = 250    # minimum number of copies with bugs\n",
        "\n",
        "# Calculate the probability using the CDF\n",
        "prob = 1 - binom.cdf(x-1, n, p)\n",
        "\n",
        "print(f\"The probability that at least {x} copies have a bug is {prob:.4f}\")\n"
      ],
      "metadata": {
        "id": "EeCGYRRa9dv_"
      },
      "execution_count": null,
      "outputs": []
    },
    {
      "cell_type": "code",
      "source": [],
      "metadata": {
        "id": "ycfAyoOb9jvj"
      },
      "execution_count": null,
      "outputs": []
    },
    {
      "cell_type": "code",
      "source": [
        "#Q8\n",
        "from scipy.stats import norm\n",
        "\n",
        "mu = 69.2\n",
        "sigma = 2.9\n",
        "n = 50\n",
        "x = 70\n",
        "\n",
        "z = (x - mu) / (sigma / (n ** 0.5))\n",
        "prob = 1 - norm.cdf(z)\n",
        "print(prob)"
      ],
      "metadata": {
        "id": "mfwwHNcl9P2c"
      },
      "execution_count": null,
      "outputs": []
    },
    {
      "cell_type": "code",
      "source": [],
      "metadata": {
        "id": "hqp7Nc9y9nvT"
      },
      "execution_count": null,
      "outputs": []
    },
    {
      "cell_type": "code",
      "source": [
        "## Q9\n",
        "from scipy.stats import norm\n",
        "\n",
        "mu = 75000\n",
        "sigma = 10000\n",
        "n = 100\n",
        "x = 72500\n",
        "\n",
        "z = (x - mu) / (sigma / (n ** 0.5))\n",
        "prob = norm.cdf(z)\n",
        "print(prob)"
      ],
      "metadata": {
        "id": "9wGT-k5P9nyL"
      },
      "execution_count": null,
      "outputs": []
    },
    {
      "cell_type": "code",
      "source": [],
      "metadata": {
        "id": "KT5bH6P883-V"
      },
      "execution_count": null,
      "outputs": []
    },
    {
      "cell_type": "code",
      "source": [
        "# Q10\n",
        "from scipy.stats import norm\n",
        "\n",
        "mu = 15\n",
        "sigma = 3\n",
        "n = 50\n",
        "x = 16\n",
        "\n",
        "z = (x - mu) / (sigma / (n ** 0.5))\n",
        "print(\"Z:\",z)\n",
        "prob = 1 - norm.cdf(z)\n",
        "print(prob)\n"
      ],
      "metadata": {
        "id": "__vib3V09wfj"
      },
      "execution_count": null,
      "outputs": []
    }
  ]
}