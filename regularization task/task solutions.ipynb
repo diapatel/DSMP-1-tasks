{
 "cells": [
  {
   "cell_type": "code",
   "execution_count": 1,
   "id": "48a64cbf-7fc1-4199-810e-b0c6487042b2",
   "metadata": {},
   "outputs": [],
   "source": [
    "import pandas as pd\n",
    "import numpy as np"
   ]
  },
  {
   "cell_type": "code",
   "execution_count": null,
   "id": "d1cf5003-c9bc-41e4-8999-df1ac48ebbab",
   "metadata": {},
   "outputs": [],
   "source": [
    "pd.Series()"
   ]
  },
  {
   "cell_type": "markdown",
   "id": "0d97f8f6-a45b-4a85-98b9-c79b34e23334",
   "metadata": {},
   "source": [
    "# TASK 1- Boston housing data\n",
    "Show how Ridge and lasso help reduce overfitting"
   ]
  },
  {
   "cell_type": "code",
   "execution_count": 87,
   "id": "c9b5df6a-a198-4354-bca3-8036417fac81",
   "metadata": {},
   "outputs": [],
   "source": [
    "from sklearn.metrics import mean_squared_error, r2_score"
   ]
  },
  {
   "cell_type": "code",
   "execution_count": 85,
   "id": "a0b56d04-0435-4fdc-9a64-273e8c3e34c1",
   "metadata": {},
   "outputs": [
    {
     "data": {
      "text/plain": [
       "array([[6.3200e-03, 1.8000e+01, 2.3100e+00, ..., 1.5300e+01, 3.9690e+02,\n",
       "        4.9800e+00],\n",
       "       [2.7310e-02, 0.0000e+00, 7.0700e+00, ..., 1.7800e+01, 3.9690e+02,\n",
       "        9.1400e+00],\n",
       "       [2.7290e-02, 0.0000e+00, 7.0700e+00, ..., 1.7800e+01, 3.9283e+02,\n",
       "        4.0300e+00],\n",
       "       ...,\n",
       "       [6.0760e-02, 0.0000e+00, 1.1930e+01, ..., 2.1000e+01, 3.9690e+02,\n",
       "        5.6400e+00],\n",
       "       [1.0959e-01, 0.0000e+00, 1.1930e+01, ..., 2.1000e+01, 3.9345e+02,\n",
       "        6.4800e+00],\n",
       "       [4.7410e-02, 0.0000e+00, 1.1930e+01, ..., 2.1000e+01, 3.9690e+02,\n",
       "        7.8800e+00]])"
      ]
     },
     "execution_count": 85,
     "metadata": {},
     "output_type": "execute_result"
    }
   ],
   "source": [
    "from sklearn.datasets import load_boston\n",
    "X, y = load_boston(return_X_y=True)\n",
    "X"
   ]
  },
  {
   "cell_type": "code",
   "execution_count": 88,
   "id": "d545dc28-1cbd-403c-b575-946c8f830cc8",
   "metadata": {},
   "outputs": [],
   "source": [
    "from sklearn.model_selection import train_test_split\n",
    "X_train, X_test, y_train, y_test = train_test_split(X,y, test_size=.2, random_state=42)"
   ]
  },
  {
   "cell_type": "code",
   "execution_count": 90,
   "id": "d74f1acd-4492-4cb5-8182-8f1e8a92a76c",
   "metadata": {},
   "outputs": [
    {
     "name": "stdout",
     "output_type": "stream",
     "text": [
      "MSE : 24.29111947497374\n",
      "R2 score : 0.6687594935356289\n"
     ]
    }
   ],
   "source": [
    "lr = LinearRegression()\n",
    "lr.fit(X_train, y_train)\n",
    "\n",
    "y_pred = lr.predict(X_test)\n",
    "print(f\"MSE : {mean_squared_error(y_test, y_pred)}\")\n",
    "print(f\"R2 score : {r2_score(y_test, y_pred)}\")"
   ]
  },
  {
   "cell_type": "code",
   "execution_count": null,
   "id": "d188d76d-9f29-4eac-8112-a85e7e92da3c",
   "metadata": {},
   "outputs": [],
   "source": []
  },
  {
   "cell_type": "code",
   "execution_count": 104,
   "id": "11b94022-8c3f-4e32-8564-fdc54e0d71c4",
   "metadata": {},
   "outputs": [
    {
     "name": "stdout",
     "output_type": "stream",
     "text": [
      "MSE : 24.291125268812458\n",
      "R2 score : 0.6687594145292219\n"
     ]
    }
   ],
   "source": [
    "ridge = Ridge(alpha=0.0001)\n",
    "ridge.fit(X_train, y_train)\n",
    "\n",
    "y_pred = ridge.predict(X_test)\n",
    "print(f\"MSE : {mean_squared_error(y_test, y_pred)}\")\n",
    "print(f\"R2 score : {r2_score(y_test, y_pred)}\")"
   ]
  },
  {
   "cell_type": "code",
   "execution_count": null,
   "id": "9b95b69a-1c84-4d82-b5ed-73c8809e2314",
   "metadata": {},
   "outputs": [],
   "source": []
  },
  {
   "cell_type": "code",
   "execution_count": 106,
   "id": "e599d2dc-6936-49eb-97e8-7ecaae7949c2",
   "metadata": {},
   "outputs": [
    {
     "name": "stdout",
     "output_type": "stream",
     "text": [
      "MSE : 24.288791816834895\n",
      "R2 score : 0.6687912341337344\n"
     ]
    }
   ],
   "source": [
    "lasso = Lasso(alpha=0.001)\n",
    "lasso.fit(X_train, y_train)\n",
    "\n",
    "y_pred = lasso.predict(X_test)\n",
    "print(f\"MSE : {mean_squared_error(y_test, y_pred)}\")\n",
    "print(f\"R2 score : {r2_score(y_test, y_pred)}\")"
   ]
  },
  {
   "cell_type": "code",
   "execution_count": null,
   "id": "92d35ef2-4d97-4df0-8710-c6ce4048c3a9",
   "metadata": {},
   "outputs": [],
   "source": []
  },
  {
   "cell_type": "markdown",
   "id": "a00adec7-d54d-40c4-9173-f5cc81301e23",
   "metadata": {},
   "source": [
    "- We can see that in case of Lasso and Ridge, the MSE reduces slightly."
   ]
  },
  {
   "cell_type": "code",
   "execution_count": null,
   "id": "d0223e69-fe38-4798-b7b8-f123a11a9101",
   "metadata": {},
   "outputs": [],
   "source": []
  },
  {
   "cell_type": "markdown",
   "id": "8482c9cf-3059-4a44-b638-9b6b8a8f899b",
   "metadata": {},
   "source": [
    "# TASK -2 Wine quality dataset\n",
    "Show how the coefficients are affected in case of Ridge and Lasso"
   ]
  },
  {
   "cell_type": "code",
   "execution_count": 45,
   "id": "dd2a4f32-8bc9-4126-a1f3-10d9295e2d02",
   "metadata": {},
   "outputs": [
    {
     "data": {
      "text/html": [
       "<div>\n",
       "<style scoped>\n",
       "    .dataframe tbody tr th:only-of-type {\n",
       "        vertical-align: middle;\n",
       "    }\n",
       "\n",
       "    .dataframe tbody tr th {\n",
       "        vertical-align: top;\n",
       "    }\n",
       "\n",
       "    .dataframe thead th {\n",
       "        text-align: right;\n",
       "    }\n",
       "</style>\n",
       "<table border=\"1\" class=\"dataframe\">\n",
       "  <thead>\n",
       "    <tr style=\"text-align: right;\">\n",
       "      <th></th>\n",
       "      <th>type</th>\n",
       "      <th>fixed acidity</th>\n",
       "      <th>volatile acidity</th>\n",
       "      <th>citric acid</th>\n",
       "      <th>residual sugar</th>\n",
       "      <th>chlorides</th>\n",
       "      <th>free sulfur dioxide</th>\n",
       "      <th>total sulfur dioxide</th>\n",
       "      <th>density</th>\n",
       "      <th>pH</th>\n",
       "      <th>sulphates</th>\n",
       "      <th>alcohol</th>\n",
       "      <th>quality</th>\n",
       "    </tr>\n",
       "  </thead>\n",
       "  <tbody>\n",
       "    <tr>\n",
       "      <th>0</th>\n",
       "      <td>white</td>\n",
       "      <td>7.0</td>\n",
       "      <td>0.27</td>\n",
       "      <td>0.36</td>\n",
       "      <td>20.7</td>\n",
       "      <td>0.045</td>\n",
       "      <td>45.0</td>\n",
       "      <td>170.0</td>\n",
       "      <td>1.0010</td>\n",
       "      <td>3.00</td>\n",
       "      <td>0.45</td>\n",
       "      <td>8.8</td>\n",
       "      <td>6</td>\n",
       "    </tr>\n",
       "    <tr>\n",
       "      <th>1</th>\n",
       "      <td>white</td>\n",
       "      <td>6.3</td>\n",
       "      <td>0.30</td>\n",
       "      <td>0.34</td>\n",
       "      <td>1.6</td>\n",
       "      <td>0.049</td>\n",
       "      <td>14.0</td>\n",
       "      <td>132.0</td>\n",
       "      <td>0.9940</td>\n",
       "      <td>3.30</td>\n",
       "      <td>0.49</td>\n",
       "      <td>9.5</td>\n",
       "      <td>6</td>\n",
       "    </tr>\n",
       "    <tr>\n",
       "      <th>2</th>\n",
       "      <td>white</td>\n",
       "      <td>8.1</td>\n",
       "      <td>0.28</td>\n",
       "      <td>0.40</td>\n",
       "      <td>6.9</td>\n",
       "      <td>0.050</td>\n",
       "      <td>30.0</td>\n",
       "      <td>97.0</td>\n",
       "      <td>0.9951</td>\n",
       "      <td>3.26</td>\n",
       "      <td>0.44</td>\n",
       "      <td>10.1</td>\n",
       "      <td>6</td>\n",
       "    </tr>\n",
       "    <tr>\n",
       "      <th>3</th>\n",
       "      <td>white</td>\n",
       "      <td>7.2</td>\n",
       "      <td>0.23</td>\n",
       "      <td>0.32</td>\n",
       "      <td>8.5</td>\n",
       "      <td>0.058</td>\n",
       "      <td>47.0</td>\n",
       "      <td>186.0</td>\n",
       "      <td>0.9956</td>\n",
       "      <td>3.19</td>\n",
       "      <td>0.40</td>\n",
       "      <td>9.9</td>\n",
       "      <td>6</td>\n",
       "    </tr>\n",
       "    <tr>\n",
       "      <th>4</th>\n",
       "      <td>white</td>\n",
       "      <td>7.2</td>\n",
       "      <td>0.23</td>\n",
       "      <td>0.32</td>\n",
       "      <td>8.5</td>\n",
       "      <td>0.058</td>\n",
       "      <td>47.0</td>\n",
       "      <td>186.0</td>\n",
       "      <td>0.9956</td>\n",
       "      <td>3.19</td>\n",
       "      <td>0.40</td>\n",
       "      <td>9.9</td>\n",
       "      <td>6</td>\n",
       "    </tr>\n",
       "  </tbody>\n",
       "</table>\n",
       "</div>"
      ],
      "text/plain": [
       "    type  fixed acidity  volatile acidity  citric acid  residual sugar  \\\n",
       "0  white            7.0              0.27         0.36            20.7   \n",
       "1  white            6.3              0.30         0.34             1.6   \n",
       "2  white            8.1              0.28         0.40             6.9   \n",
       "3  white            7.2              0.23         0.32             8.5   \n",
       "4  white            7.2              0.23         0.32             8.5   \n",
       "\n",
       "   chlorides  free sulfur dioxide  total sulfur dioxide  density    pH  \\\n",
       "0      0.045                 45.0                 170.0   1.0010  3.00   \n",
       "1      0.049                 14.0                 132.0   0.9940  3.30   \n",
       "2      0.050                 30.0                  97.0   0.9951  3.26   \n",
       "3      0.058                 47.0                 186.0   0.9956  3.19   \n",
       "4      0.058                 47.0                 186.0   0.9956  3.19   \n",
       "\n",
       "   sulphates  alcohol  quality  \n",
       "0       0.45      8.8        6  \n",
       "1       0.49      9.5        6  \n",
       "2       0.44     10.1        6  \n",
       "3       0.40      9.9        6  \n",
       "4       0.40      9.9        6  "
      ]
     },
     "execution_count": 45,
     "metadata": {},
     "output_type": "execute_result"
    }
   ],
   "source": [
    "data = pd.read_csv('./winequalityN - winequalityN.csv')\n",
    "data.head()"
   ]
  },
  {
   "cell_type": "code",
   "execution_count": 7,
   "id": "bd0d02b5-d9d6-48b8-b741-99458b8f3564",
   "metadata": {},
   "outputs": [
    {
     "data": {
      "text/plain": [
       "type                     0\n",
       "fixed acidity           10\n",
       "volatile acidity         8\n",
       "citric acid              3\n",
       "residual sugar           2\n",
       "chlorides                2\n",
       "free sulfur dioxide      0\n",
       "total sulfur dioxide     0\n",
       "density                  0\n",
       "pH                       9\n",
       "sulphates                4\n",
       "alcohol                  0\n",
       "quality                  0\n",
       "dtype: int64"
      ]
     },
     "execution_count": 7,
     "metadata": {},
     "output_type": "execute_result"
    }
   ],
   "source": [
    "data.isnull().sum()"
   ]
  },
  {
   "cell_type": "code",
   "execution_count": 46,
   "id": "fa63adf8-06c1-4b0f-b1b4-b562bb892a34",
   "metadata": {},
   "outputs": [],
   "source": [
    "data = data.dropna()"
   ]
  },
  {
   "cell_type": "code",
   "execution_count": 10,
   "id": "4b1627b4-4f4f-4b7d-b6c3-3cff800d0965",
   "metadata": {},
   "outputs": [
    {
     "data": {
      "text/plain": [
       "type                    0\n",
       "fixed acidity           0\n",
       "volatile acidity        0\n",
       "citric acid             0\n",
       "residual sugar          0\n",
       "chlorides               0\n",
       "free sulfur dioxide     0\n",
       "total sulfur dioxide    0\n",
       "density                 0\n",
       "pH                      0\n",
       "sulphates               0\n",
       "alcohol                 0\n",
       "quality                 0\n",
       "dtype: int64"
      ]
     },
     "execution_count": 10,
     "metadata": {},
     "output_type": "execute_result"
    }
   ],
   "source": [
    "data.isnull().sum()"
   ]
  },
  {
   "cell_type": "code",
   "execution_count": 47,
   "id": "6c550215-da18-48e2-ae00-92347b0680ad",
   "metadata": {},
   "outputs": [],
   "source": [
    "X = data.drop(columns='quality')\n",
    "y = data.loc[:,'quality']"
   ]
  },
  {
   "cell_type": "code",
   "execution_count": 49,
   "id": "8f276c23-9422-4296-8cb5-fe06174f2df7",
   "metadata": {},
   "outputs": [],
   "source": [
    "X =pd.get_dummies(X)"
   ]
  },
  {
   "cell_type": "code",
   "execution_count": 50,
   "id": "237cebef-f001-462b-a925-3b09416409dd",
   "metadata": {},
   "outputs": [
    {
     "data": {
      "text/plain": [
       "LinearRegression()"
      ]
     },
     "execution_count": 50,
     "metadata": {},
     "output_type": "execute_result"
    }
   ],
   "source": [
    "from sklearn.linear_model import LinearRegression\n",
    "lr = LinearRegression()\n",
    "lr.fit(X,y)"
   ]
  },
  {
   "cell_type": "code",
   "execution_count": 52,
   "id": "b819fecd-05d8-4bc1-93ec-4c97fa4f1898",
   "metadata": {},
   "outputs": [],
   "source": [
    "coef = lr.coef_"
   ]
  },
  {
   "cell_type": "code",
   "execution_count": 53,
   "id": "d9085359-377b-4294-9fed-012e581c4231",
   "metadata": {},
   "outputs": [],
   "source": [
    "lr_df = pd.DataFrame({'feature' : X.columns,\n",
    "             'coef' : coef})"
   ]
  },
  {
   "cell_type": "markdown",
   "id": "6f990729-1c69-4a03-af1a-cbbc81ad3f08",
   "metadata": {},
   "source": []
  },
  {
   "cell_type": "markdown",
   "id": "69778788-a487-4b98-9dde-7f23605ca790",
   "metadata": {},
   "source": [
    "## Ridge Regression"
   ]
  },
  {
   "cell_type": "code",
   "execution_count": 23,
   "id": "7b6a3ffb-43c3-4220-825e-f9b5646c1ef9",
   "metadata": {},
   "outputs": [
    {
     "data": {
      "text/plain": [
       "Ridge(alpha=0.1)"
      ]
     },
     "execution_count": 23,
     "metadata": {},
     "output_type": "execute_result"
    }
   ],
   "source": [
    "from sklearn.linear_model import Ridge\n",
    "ridge = Ridge(alpha=0.1)\n",
    "ridge.fit(X,y)"
   ]
  },
  {
   "cell_type": "code",
   "execution_count": 28,
   "id": "a0c42fff-280a-440a-a355-c86db90c6c7f",
   "metadata": {},
   "outputs": [],
   "source": [
    "coef = ridge.coef_"
   ]
  },
  {
   "cell_type": "code",
   "execution_count": 31,
   "id": "5b73ac66-e216-4d2a-939b-c93a7096a5f8",
   "metadata": {},
   "outputs": [
    {
     "data": {
      "text/html": [
       "<div>\n",
       "<style scoped>\n",
       "    .dataframe tbody tr th:only-of-type {\n",
       "        vertical-align: middle;\n",
       "    }\n",
       "\n",
       "    .dataframe tbody tr th {\n",
       "        vertical-align: top;\n",
       "    }\n",
       "\n",
       "    .dataframe thead th {\n",
       "        text-align: right;\n",
       "    }\n",
       "</style>\n",
       "<table border=\"1\" class=\"dataframe\">\n",
       "  <thead>\n",
       "    <tr style=\"text-align: right;\">\n",
       "      <th></th>\n",
       "      <th>fixed acidity</th>\n",
       "      <th>volatile acidity</th>\n",
       "      <th>citric acid</th>\n",
       "      <th>residual sugar</th>\n",
       "      <th>chlorides</th>\n",
       "      <th>free sulfur dioxide</th>\n",
       "      <th>total sulfur dioxide</th>\n",
       "      <th>density</th>\n",
       "      <th>pH</th>\n",
       "      <th>sulphates</th>\n",
       "      <th>alcohol</th>\n",
       "      <th>type_white</th>\n",
       "    </tr>\n",
       "  </thead>\n",
       "  <tbody>\n",
       "    <tr>\n",
       "      <th>0.1</th>\n",
       "      <td>NaN</td>\n",
       "      <td>NaN</td>\n",
       "      <td>NaN</td>\n",
       "      <td>NaN</td>\n",
       "      <td>NaN</td>\n",
       "      <td>NaN</td>\n",
       "      <td>NaN</td>\n",
       "      <td>NaN</td>\n",
       "      <td>NaN</td>\n",
       "      <td>NaN</td>\n",
       "      <td>NaN</td>\n",
       "      <td>NaN</td>\n",
       "    </tr>\n",
       "  </tbody>\n",
       "</table>\n",
       "</div>"
      ],
      "text/plain": [
       "    fixed acidity volatile acidity citric acid residual sugar chlorides  \\\n",
       "0.1           NaN              NaN         NaN            NaN       NaN   \n",
       "\n",
       "    free sulfur dioxide total sulfur dioxide density   pH sulphates alcohol  \\\n",
       "0.1                 NaN                  NaN     NaN  NaN       NaN     NaN   \n",
       "\n",
       "    type_white  \n",
       "0.1        NaN  "
      ]
     },
     "execution_count": 31,
     "metadata": {},
     "output_type": "execute_result"
    }
   ],
   "source": [
    "pd.DataFrame({'coef':ridge.coef_.tolist()},\n",
    "            index=[0.1],\n",
    "            columns = X.columns)"
   ]
  },
  {
   "cell_type": "code",
   "execution_count": 64,
   "id": "5f1b42d2-9086-4ffa-afef-4db25f478ed6",
   "metadata": {},
   "outputs": [],
   "source": [
    "alphas = [0.0001, 0.001, 0.01, 0.1, 1, 10, 100, 1000, 10000]\n",
    "\n",
    "coefs = []\n",
    "\n",
    "for i in alphas:\n",
    "    ridge = Ridge(alpha=i)\n",
    "    ridge.fit(X,y)\n",
    "    \n",
    "    coefs.append(ridge.coef_.tolist())"
   ]
  },
  {
   "cell_type": "code",
   "execution_count": 65,
   "id": "b5474cbd-fc56-45b1-a8e6-7db846c937e4",
   "metadata": {},
   "outputs": [],
   "source": [
    "arr = np.array(coefs)"
   ]
  },
  {
   "cell_type": "code",
   "execution_count": 66,
   "id": "d21b3b0a-8a95-4662-a3b2-d16b8c908366",
   "metadata": {},
   "outputs": [],
   "source": [
    "df = pd.DataFrame(arr,\n",
    "            columns = X.columns)\n",
    "df['alpha'] = alphas\n",
    "df.index= df['alpha']\n",
    "df = df.drop(columns='alpha')"
   ]
  },
  {
   "cell_type": "code",
   "execution_count": 67,
   "id": "7016a7ab-0a70-499d-99ae-49d559738739",
   "metadata": {},
   "outputs": [
    {
     "data": {
      "text/html": [
       "<div>\n",
       "<style scoped>\n",
       "    .dataframe tbody tr th:only-of-type {\n",
       "        vertical-align: middle;\n",
       "    }\n",
       "\n",
       "    .dataframe tbody tr th {\n",
       "        vertical-align: top;\n",
       "    }\n",
       "\n",
       "    .dataframe thead th {\n",
       "        text-align: right;\n",
       "    }\n",
       "</style>\n",
       "<table border=\"1\" class=\"dataframe\">\n",
       "  <thead>\n",
       "    <tr style=\"text-align: right;\">\n",
       "      <th></th>\n",
       "      <th>fixed acidity</th>\n",
       "      <th>volatile acidity</th>\n",
       "      <th>citric acid</th>\n",
       "      <th>residual sugar</th>\n",
       "      <th>chlorides</th>\n",
       "      <th>free sulfur dioxide</th>\n",
       "      <th>total sulfur dioxide</th>\n",
       "      <th>density</th>\n",
       "      <th>pH</th>\n",
       "      <th>sulphates</th>\n",
       "      <th>alcohol</th>\n",
       "      <th>type_red</th>\n",
       "      <th>type_white</th>\n",
       "    </tr>\n",
       "    <tr>\n",
       "      <th>alpha</th>\n",
       "      <th></th>\n",
       "      <th></th>\n",
       "      <th></th>\n",
       "      <th></th>\n",
       "      <th></th>\n",
       "      <th></th>\n",
       "      <th></th>\n",
       "      <th></th>\n",
       "      <th></th>\n",
       "      <th></th>\n",
       "      <th></th>\n",
       "      <th></th>\n",
       "      <th></th>\n",
       "    </tr>\n",
       "  </thead>\n",
       "  <tbody>\n",
       "    <tr>\n",
       "      <th>0.0001</th>\n",
       "      <td>0.082186</td>\n",
       "      <td>-1.508478</td>\n",
       "      <td>-0.079680</td>\n",
       "      <td>0.061502</td>\n",
       "      <td>-0.757033</td>\n",
       "      <td>0.004901</td>\n",
       "      <td>-0.001412</td>\n",
       "      <td>-99.606065</td>\n",
       "      <td>0.474837</td>\n",
       "      <td>0.719305</td>\n",
       "      <td>0.228399</td>\n",
       "      <td>0.179055</td>\n",
       "      <td>-0.179055</td>\n",
       "    </tr>\n",
       "    <tr>\n",
       "      <th>0.0010</th>\n",
       "      <td>0.061492</td>\n",
       "      <td>-1.524666</td>\n",
       "      <td>-0.087978</td>\n",
       "      <td>0.052050</td>\n",
       "      <td>-0.815545</td>\n",
       "      <td>0.005060</td>\n",
       "      <td>-0.001497</td>\n",
       "      <td>-74.744840</td>\n",
       "      <td>0.378294</td>\n",
       "      <td>0.686854</td>\n",
       "      <td>0.255395</td>\n",
       "      <td>0.152749</td>\n",
       "      <td>-0.152749</td>\n",
       "    </tr>\n",
       "    <tr>\n",
       "      <th>0.0100</th>\n",
       "      <td>0.017079</td>\n",
       "      <td>-1.559330</td>\n",
       "      <td>-0.105792</td>\n",
       "      <td>0.031763</td>\n",
       "      <td>-0.939750</td>\n",
       "      <td>0.005403</td>\n",
       "      <td>-0.001680</td>\n",
       "      <td>-21.381773</td>\n",
       "      <td>0.171114</td>\n",
       "      <td>0.617107</td>\n",
       "      <td>0.313350</td>\n",
       "      <td>0.096246</td>\n",
       "      <td>-0.096246</td>\n",
       "    </tr>\n",
       "    <tr>\n",
       "      <th>0.1000</th>\n",
       "      <td>0.001518</td>\n",
       "      <td>-1.570497</td>\n",
       "      <td>-0.112072</td>\n",
       "      <td>0.024640</td>\n",
       "      <td>-0.966684</td>\n",
       "      <td>0.005526</td>\n",
       "      <td>-0.001745</td>\n",
       "      <td>-2.629025</td>\n",
       "      <td>0.098818</td>\n",
       "      <td>0.591470</td>\n",
       "      <td>0.333833</td>\n",
       "      <td>0.075937</td>\n",
       "      <td>-0.075937</td>\n",
       "    </tr>\n",
       "    <tr>\n",
       "      <th>1.0000</th>\n",
       "      <td>-0.000052</td>\n",
       "      <td>-1.560570</td>\n",
       "      <td>-0.111930</td>\n",
       "      <td>0.023792</td>\n",
       "      <td>-0.828321</td>\n",
       "      <td>0.005563</td>\n",
       "      <td>-0.001763</td>\n",
       "      <td>-0.270909</td>\n",
       "      <td>0.094060</td>\n",
       "      <td>0.578173</td>\n",
       "      <td>0.337379</td>\n",
       "      <td>0.069222</td>\n",
       "      <td>-0.069222</td>\n",
       "    </tr>\n",
       "    <tr>\n",
       "      <th>10.0000</th>\n",
       "      <td>0.000747</td>\n",
       "      <td>-1.427976</td>\n",
       "      <td>-0.073155</td>\n",
       "      <td>0.023622</td>\n",
       "      <td>-0.347771</td>\n",
       "      <td>0.005786</td>\n",
       "      <td>-0.001860</td>\n",
       "      <td>-0.027888</td>\n",
       "      <td>0.106699</td>\n",
       "      <td>0.524288</td>\n",
       "      <td>0.340226</td>\n",
       "      <td>0.044071</td>\n",
       "      <td>-0.044071</td>\n",
       "    </tr>\n",
       "    <tr>\n",
       "      <th>100.0000</th>\n",
       "      <td>0.002771</td>\n",
       "      <td>-0.765705</td>\n",
       "      <td>0.077033</td>\n",
       "      <td>0.021892</td>\n",
       "      <td>-0.061122</td>\n",
       "      <td>0.006853</td>\n",
       "      <td>-0.002222</td>\n",
       "      <td>-0.003007</td>\n",
       "      <td>0.078780</td>\n",
       "      <td>0.322564</td>\n",
       "      <td>0.337437</td>\n",
       "      <td>-0.030940</td>\n",
       "      <td>0.030940</td>\n",
       "    </tr>\n",
       "    <tr>\n",
       "      <th>1000.0000</th>\n",
       "      <td>0.001721</td>\n",
       "      <td>-0.155674</td>\n",
       "      <td>0.042767</td>\n",
       "      <td>0.018169</td>\n",
       "      <td>-0.010390</td>\n",
       "      <td>0.007783</td>\n",
       "      <td>-0.002212</td>\n",
       "      <td>-0.000720</td>\n",
       "      <td>0.008153</td>\n",
       "      <td>0.060888</td>\n",
       "      <td>0.308710</td>\n",
       "      <td>-0.058203</td>\n",
       "      <td>0.058203</td>\n",
       "    </tr>\n",
       "    <tr>\n",
       "      <th>10000.0000</th>\n",
       "      <td>-0.014808</td>\n",
       "      <td>-0.021383</td>\n",
       "      <td>0.007291</td>\n",
       "      <td>0.006256</td>\n",
       "      <td>-0.002588</td>\n",
       "      <td>0.008164</td>\n",
       "      <td>-0.002252</td>\n",
       "      <td>-0.000266</td>\n",
       "      <td>-0.000527</td>\n",
       "      <td>0.004583</td>\n",
       "      <td>0.156098</td>\n",
       "      <td>-0.021598</td>\n",
       "      <td>0.021598</td>\n",
       "    </tr>\n",
       "  </tbody>\n",
       "</table>\n",
       "</div>"
      ],
      "text/plain": [
       "            fixed acidity  volatile acidity  citric acid  residual sugar  \\\n",
       "alpha                                                                      \n",
       "0.0001           0.082186         -1.508478    -0.079680        0.061502   \n",
       "0.0010           0.061492         -1.524666    -0.087978        0.052050   \n",
       "0.0100           0.017079         -1.559330    -0.105792        0.031763   \n",
       "0.1000           0.001518         -1.570497    -0.112072        0.024640   \n",
       "1.0000          -0.000052         -1.560570    -0.111930        0.023792   \n",
       "10.0000          0.000747         -1.427976    -0.073155        0.023622   \n",
       "100.0000         0.002771         -0.765705     0.077033        0.021892   \n",
       "1000.0000        0.001721         -0.155674     0.042767        0.018169   \n",
       "10000.0000      -0.014808         -0.021383     0.007291        0.006256   \n",
       "\n",
       "            chlorides  free sulfur dioxide  total sulfur dioxide    density  \\\n",
       "alpha                                                                         \n",
       "0.0001      -0.757033             0.004901             -0.001412 -99.606065   \n",
       "0.0010      -0.815545             0.005060             -0.001497 -74.744840   \n",
       "0.0100      -0.939750             0.005403             -0.001680 -21.381773   \n",
       "0.1000      -0.966684             0.005526             -0.001745  -2.629025   \n",
       "1.0000      -0.828321             0.005563             -0.001763  -0.270909   \n",
       "10.0000     -0.347771             0.005786             -0.001860  -0.027888   \n",
       "100.0000    -0.061122             0.006853             -0.002222  -0.003007   \n",
       "1000.0000   -0.010390             0.007783             -0.002212  -0.000720   \n",
       "10000.0000  -0.002588             0.008164             -0.002252  -0.000266   \n",
       "\n",
       "                  pH  sulphates   alcohol  type_red  type_white  \n",
       "alpha                                                            \n",
       "0.0001      0.474837   0.719305  0.228399  0.179055   -0.179055  \n",
       "0.0010      0.378294   0.686854  0.255395  0.152749   -0.152749  \n",
       "0.0100      0.171114   0.617107  0.313350  0.096246   -0.096246  \n",
       "0.1000      0.098818   0.591470  0.333833  0.075937   -0.075937  \n",
       "1.0000      0.094060   0.578173  0.337379  0.069222   -0.069222  \n",
       "10.0000     0.106699   0.524288  0.340226  0.044071   -0.044071  \n",
       "100.0000    0.078780   0.322564  0.337437 -0.030940    0.030940  \n",
       "1000.0000   0.008153   0.060888  0.308710 -0.058203    0.058203  \n",
       "10000.0000 -0.000527   0.004583  0.156098 -0.021598    0.021598  "
      ]
     },
     "execution_count": 67,
     "metadata": {},
     "output_type": "execute_result"
    }
   ],
   "source": [
    "df"
   ]
  },
  {
   "cell_type": "code",
   "execution_count": null,
   "id": "86547f90-0da4-48dd-a3f2-435e793eafe1",
   "metadata": {},
   "outputs": [],
   "source": []
  },
  {
   "cell_type": "markdown",
   "id": "939640e4-e023-4269-81f6-a6d07783d3fa",
   "metadata": {},
   "source": [
    "# Lasso"
   ]
  },
  {
   "cell_type": "code",
   "execution_count": 70,
   "id": "d2790883-b55e-4363-b7da-b3dc12dc3f65",
   "metadata": {},
   "outputs": [],
   "source": [
    "from sklearn.linear_model import Lasso"
   ]
  },
  {
   "cell_type": "code",
   "execution_count": 71,
   "id": "5e780290-3898-4ea0-bb07-95d500368ed8",
   "metadata": {},
   "outputs": [],
   "source": [
    "alphas = [0.0001, 0.001, 0.01, 0.1, 1, 10, 100, 1000, 10000]\n",
    "\n",
    "coefs = []\n",
    "\n",
    "for i in alphas:\n",
    "    lasso = Lasso(alpha=i)\n",
    "    lasso.fit(X,y)\n",
    "    coefs.append(lasso.coef_.tolist())"
   ]
  },
  {
   "cell_type": "code",
   "execution_count": 74,
   "id": "5b404e2e-589e-4378-bec3-ce3d9d3bbea1",
   "metadata": {},
   "outputs": [
    {
     "data": {
      "text/html": [
       "<div>\n",
       "<style scoped>\n",
       "    .dataframe tbody tr th:only-of-type {\n",
       "        vertical-align: middle;\n",
       "    }\n",
       "\n",
       "    .dataframe tbody tr th {\n",
       "        vertical-align: top;\n",
       "    }\n",
       "\n",
       "    .dataframe thead th {\n",
       "        text-align: right;\n",
       "    }\n",
       "</style>\n",
       "<table border=\"1\" class=\"dataframe\">\n",
       "  <thead>\n",
       "    <tr style=\"text-align: right;\">\n",
       "      <th></th>\n",
       "      <th>fixed acidity</th>\n",
       "      <th>volatile acidity</th>\n",
       "      <th>citric acid</th>\n",
       "      <th>residual sugar</th>\n",
       "      <th>chlorides</th>\n",
       "      <th>free sulfur dioxide</th>\n",
       "      <th>total sulfur dioxide</th>\n",
       "      <th>density</th>\n",
       "      <th>pH</th>\n",
       "      <th>sulphates</th>\n",
       "      <th>alcohol</th>\n",
       "      <th>type_red</th>\n",
       "      <th>type_white</th>\n",
       "    </tr>\n",
       "    <tr>\n",
       "      <th>alpha</th>\n",
       "      <th></th>\n",
       "      <th></th>\n",
       "      <th></th>\n",
       "      <th></th>\n",
       "      <th></th>\n",
       "      <th></th>\n",
       "      <th></th>\n",
       "      <th></th>\n",
       "      <th></th>\n",
       "      <th></th>\n",
       "      <th></th>\n",
       "      <th></th>\n",
       "      <th></th>\n",
       "    </tr>\n",
       "  </thead>\n",
       "  <tbody>\n",
       "    <tr>\n",
       "      <th>0.0001</th>\n",
       "      <td>-0.000669</td>\n",
       "      <td>-1.566591</td>\n",
       "      <td>-0.108656</td>\n",
       "      <td>0.023637</td>\n",
       "      <td>-0.863137</td>\n",
       "      <td>0.005556</td>\n",
       "      <td>-0.001766</td>\n",
       "      <td>-0.0</td>\n",
       "      <td>0.088623</td>\n",
       "      <td>0.578840</td>\n",
       "      <td>0.337299</td>\n",
       "      <td>0.140841</td>\n",
       "      <td>-0.000000e+00</td>\n",
       "    </tr>\n",
       "    <tr>\n",
       "      <th>0.0010</th>\n",
       "      <td>-0.001090</td>\n",
       "      <td>-1.494434</td>\n",
       "      <td>-0.057961</td>\n",
       "      <td>0.023490</td>\n",
       "      <td>-0.000000</td>\n",
       "      <td>0.005704</td>\n",
       "      <td>-0.001885</td>\n",
       "      <td>-0.0</td>\n",
       "      <td>0.085414</td>\n",
       "      <td>0.498308</td>\n",
       "      <td>0.341698</td>\n",
       "      <td>0.091537</td>\n",
       "      <td>-7.399283e-19</td>\n",
       "    </tr>\n",
       "    <tr>\n",
       "      <th>0.0100</th>\n",
       "      <td>0.000000</td>\n",
       "      <td>-0.904334</td>\n",
       "      <td>0.000000</td>\n",
       "      <td>0.020193</td>\n",
       "      <td>-0.000000</td>\n",
       "      <td>0.006632</td>\n",
       "      <td>-0.002180</td>\n",
       "      <td>-0.0</td>\n",
       "      <td>0.000000</td>\n",
       "      <td>0.055501</td>\n",
       "      <td>0.332840</td>\n",
       "      <td>0.000000</td>\n",
       "      <td>-0.000000e+00</td>\n",
       "    </tr>\n",
       "    <tr>\n",
       "      <th>0.1000</th>\n",
       "      <td>-0.000000</td>\n",
       "      <td>-0.000000</td>\n",
       "      <td>0.000000</td>\n",
       "      <td>0.009628</td>\n",
       "      <td>-0.000000</td>\n",
       "      <td>0.007241</td>\n",
       "      <td>-0.001124</td>\n",
       "      <td>-0.0</td>\n",
       "      <td>-0.000000</td>\n",
       "      <td>0.000000</td>\n",
       "      <td>0.274237</td>\n",
       "      <td>-0.000000</td>\n",
       "      <td>0.000000e+00</td>\n",
       "    </tr>\n",
       "    <tr>\n",
       "      <th>1.0000</th>\n",
       "      <td>-0.000000</td>\n",
       "      <td>-0.000000</td>\n",
       "      <td>0.000000</td>\n",
       "      <td>-0.000000</td>\n",
       "      <td>-0.000000</td>\n",
       "      <td>0.000598</td>\n",
       "      <td>-0.000465</td>\n",
       "      <td>-0.0</td>\n",
       "      <td>0.000000</td>\n",
       "      <td>0.000000</td>\n",
       "      <td>0.000000</td>\n",
       "      <td>-0.000000</td>\n",
       "      <td>0.000000e+00</td>\n",
       "    </tr>\n",
       "    <tr>\n",
       "      <th>10.0000</th>\n",
       "      <td>-0.000000</td>\n",
       "      <td>-0.000000</td>\n",
       "      <td>0.000000</td>\n",
       "      <td>-0.000000</td>\n",
       "      <td>-0.000000</td>\n",
       "      <td>0.000000</td>\n",
       "      <td>-0.000000</td>\n",
       "      <td>-0.0</td>\n",
       "      <td>0.000000</td>\n",
       "      <td>0.000000</td>\n",
       "      <td>0.000000</td>\n",
       "      <td>-0.000000</td>\n",
       "      <td>0.000000e+00</td>\n",
       "    </tr>\n",
       "    <tr>\n",
       "      <th>100.0000</th>\n",
       "      <td>-0.000000</td>\n",
       "      <td>-0.000000</td>\n",
       "      <td>0.000000</td>\n",
       "      <td>-0.000000</td>\n",
       "      <td>-0.000000</td>\n",
       "      <td>0.000000</td>\n",
       "      <td>-0.000000</td>\n",
       "      <td>-0.0</td>\n",
       "      <td>0.000000</td>\n",
       "      <td>0.000000</td>\n",
       "      <td>0.000000</td>\n",
       "      <td>-0.000000</td>\n",
       "      <td>0.000000e+00</td>\n",
       "    </tr>\n",
       "    <tr>\n",
       "      <th>1000.0000</th>\n",
       "      <td>-0.000000</td>\n",
       "      <td>-0.000000</td>\n",
       "      <td>0.000000</td>\n",
       "      <td>-0.000000</td>\n",
       "      <td>-0.000000</td>\n",
       "      <td>0.000000</td>\n",
       "      <td>-0.000000</td>\n",
       "      <td>-0.0</td>\n",
       "      <td>0.000000</td>\n",
       "      <td>0.000000</td>\n",
       "      <td>0.000000</td>\n",
       "      <td>-0.000000</td>\n",
       "      <td>0.000000e+00</td>\n",
       "    </tr>\n",
       "    <tr>\n",
       "      <th>10000.0000</th>\n",
       "      <td>-0.000000</td>\n",
       "      <td>-0.000000</td>\n",
       "      <td>0.000000</td>\n",
       "      <td>-0.000000</td>\n",
       "      <td>-0.000000</td>\n",
       "      <td>0.000000</td>\n",
       "      <td>-0.000000</td>\n",
       "      <td>-0.0</td>\n",
       "      <td>0.000000</td>\n",
       "      <td>0.000000</td>\n",
       "      <td>0.000000</td>\n",
       "      <td>-0.000000</td>\n",
       "      <td>0.000000e+00</td>\n",
       "    </tr>\n",
       "  </tbody>\n",
       "</table>\n",
       "</div>"
      ],
      "text/plain": [
       "            fixed acidity  volatile acidity  citric acid  residual sugar  \\\n",
       "alpha                                                                      \n",
       "0.0001          -0.000669         -1.566591    -0.108656        0.023637   \n",
       "0.0010          -0.001090         -1.494434    -0.057961        0.023490   \n",
       "0.0100           0.000000         -0.904334     0.000000        0.020193   \n",
       "0.1000          -0.000000         -0.000000     0.000000        0.009628   \n",
       "1.0000          -0.000000         -0.000000     0.000000       -0.000000   \n",
       "10.0000         -0.000000         -0.000000     0.000000       -0.000000   \n",
       "100.0000        -0.000000         -0.000000     0.000000       -0.000000   \n",
       "1000.0000       -0.000000         -0.000000     0.000000       -0.000000   \n",
       "10000.0000      -0.000000         -0.000000     0.000000       -0.000000   \n",
       "\n",
       "            chlorides  free sulfur dioxide  total sulfur dioxide  density  \\\n",
       "alpha                                                                       \n",
       "0.0001      -0.863137             0.005556             -0.001766     -0.0   \n",
       "0.0010      -0.000000             0.005704             -0.001885     -0.0   \n",
       "0.0100      -0.000000             0.006632             -0.002180     -0.0   \n",
       "0.1000      -0.000000             0.007241             -0.001124     -0.0   \n",
       "1.0000      -0.000000             0.000598             -0.000465     -0.0   \n",
       "10.0000     -0.000000             0.000000             -0.000000     -0.0   \n",
       "100.0000    -0.000000             0.000000             -0.000000     -0.0   \n",
       "1000.0000   -0.000000             0.000000             -0.000000     -0.0   \n",
       "10000.0000  -0.000000             0.000000             -0.000000     -0.0   \n",
       "\n",
       "                  pH  sulphates   alcohol  type_red    type_white  \n",
       "alpha                                                              \n",
       "0.0001      0.088623   0.578840  0.337299  0.140841 -0.000000e+00  \n",
       "0.0010      0.085414   0.498308  0.341698  0.091537 -7.399283e-19  \n",
       "0.0100      0.000000   0.055501  0.332840  0.000000 -0.000000e+00  \n",
       "0.1000     -0.000000   0.000000  0.274237 -0.000000  0.000000e+00  \n",
       "1.0000      0.000000   0.000000  0.000000 -0.000000  0.000000e+00  \n",
       "10.0000     0.000000   0.000000  0.000000 -0.000000  0.000000e+00  \n",
       "100.0000    0.000000   0.000000  0.000000 -0.000000  0.000000e+00  \n",
       "1000.0000   0.000000   0.000000  0.000000 -0.000000  0.000000e+00  \n",
       "10000.0000  0.000000   0.000000  0.000000 -0.000000  0.000000e+00  "
      ]
     },
     "execution_count": 74,
     "metadata": {},
     "output_type": "execute_result"
    }
   ],
   "source": [
    "coef_arr = np.array(coefs)\n",
    "lasso_df = pd.DataFrame(coef_arr, columns=X.columns)\n",
    "\n",
    "lasso_df['alpha'] = alphas\n",
    "lasso_df.index= lasso_df['alpha']\n",
    "lasso_df.drop(columns='alpha')"
   ]
  },
  {
   "cell_type": "code",
   "execution_count": null,
   "id": "bf9e0e74-1574-49d1-84aa-2ec851c43da7",
   "metadata": {},
   "outputs": [],
   "source": []
  },
  {
   "cell_type": "markdown",
   "id": "fee859c4-a376-4d46-94a8-8878513e3e6c",
   "metadata": {},
   "source": [
    "- Observations\n",
    "    * In ridge , as the value of alpha increases, the values of coefficients decreases and nears zero but never becomes zero\n",
    "    * In lasso, as the value of alpha increases, the values of coefficients decreases and "
   ]
  },
  {
   "cell_type": "code",
   "execution_count": null,
   "id": "340102c2-61d3-401c-9ee3-ff78d5d90dae",
   "metadata": {},
   "outputs": [],
   "source": []
  },
  {
   "cell_type": "code",
   "execution_count": null,
   "id": "0e03c806-d0d4-4468-bc17-fc83f5151e5e",
   "metadata": {},
   "outputs": [],
   "source": []
  },
  {
   "cell_type": "code",
   "execution_count": null,
   "id": "f4471893-005b-4196-9d7a-20078e329f27",
   "metadata": {},
   "outputs": [],
   "source": []
  }
 ],
 "metadata": {
  "kernelspec": {
   "display_name": "Python 3 (ipykernel)",
   "language": "python",
   "name": "python3"
  },
  "language_info": {
   "codemirror_mode": {
    "name": "ipython",
    "version": 3
   },
   "file_extension": ".py",
   "mimetype": "text/x-python",
   "name": "python",
   "nbconvert_exporter": "python",
   "pygments_lexer": "ipython3",
   "version": "3.9.13"
  }
 },
 "nbformat": 4,
 "nbformat_minor": 5
}
