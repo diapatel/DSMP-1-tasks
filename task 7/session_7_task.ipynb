{
  "nbformat": 4,
  "nbformat_minor": 0,
  "metadata": {
    "colab": {
      "provenance": []
    },
    "kernelspec": {
      "name": "python3",
      "display_name": "Python 3"
    },
    "language_info": {
      "name": "python"
    }
  },
  "cells": [
    {
      "cell_type": "markdown",
      "source": [
        "##`Q-1:` Rectangle Class\n",
        "1. Write a Rectangle class in Python language, allowing you to build a rectangle with length and width attributes.\n",
        "\n",
        "2. Create a Perimeter() method to calculate the perimeter of the rectangle and a Area() method to calculate the area of ​​the rectangle.\n",
        "\n",
        "3. Create a method display() that display the length, width, perimeter and area of an object created using an instantiation on rectangle class."
      ],
      "metadata": {
        "id": "FyUJ3PRAsPr4"
      }
    },
    {
      "cell_type": "markdown",
      "source": [
        "Eg.\n",
        "After making above classes and methods, on executing below code:-\n",
        "```\n",
        "my_rectangle = Rectangle(3 , 4)\n",
        "my_rectangle.display()\n",
        "```\n",
        "\n",
        "`Output:`\n",
        "```\n",
        "The length of rectangle is:  3\n",
        "The width of rectangle is:  4\n",
        "The perimeter of rectangle is:  14\n",
        "The area of rectangle is:  12\n",
        "```\n"
      ],
      "metadata": {
        "id": "GxUtOqJfssFK"
      }
    },
    {
      "cell_type": "code",
      "source": [
        "# write your code here\n",
        "class Rectangle:\n",
        "\n",
        "  def __init__(self, length, width):\n",
        "    self.length = length\n",
        "    self.width = width\n",
        "\n",
        "  def Perimeter(self):\n",
        "    return 2 * (self.length + self.width)\n",
        "\n",
        "  def Area(self):\n",
        "    return self.length * self.width\n",
        "\n",
        "  def display(self):\n",
        "    print(f\"The length of the rectangle is: \", self.length)\n",
        "    print(f\"The width of the rectangle is: \", self.width)\n",
        "    print(f\"The perimeter of the rectangle is: \", self.Perimeter())\n",
        "    print(f\"The area of the rectangle is: \", self.Area())\n",
        "\n",
        "\n",
        "a = Rectangle(3,4)\n",
        "a.display()"
      ],
      "metadata": {
        "id": "92_QT-Uj6NBg",
        "colab": {
          "base_uri": "https://localhost:8080/"
        },
        "outputId": "b4d007ae-6fab-49fb-bf75-06210fdcd764"
      },
      "execution_count": 5,
      "outputs": [
        {
          "output_type": "stream",
          "name": "stdout",
          "text": [
            "The length of the rectangle is:  3\n",
            "The width of the rectangle is:  4\n",
            "The perimeter of the rectangle is:  14\n",
            "The area of the rectangle is:  12\n"
          ]
        }
      ]
    },
    {
      "cell_type": "code",
      "source": [],
      "metadata": {
        "id": "-njG8-J6bwV0"
      },
      "execution_count": null,
      "outputs": []
    },
    {
      "cell_type": "markdown",
      "source": [
        "##`Q-2: Bank Class`\n",
        "\n",
        "1. Create a Python class called `BankAccount` which represents a bank account, having as attributes: `accountNumber` (numeric type), `name` (name of the account owner as string type), `balance`.\n",
        "2. Create a constructor with parameters: `accountNumber, name, balance`.\n",
        "3. Create a `Deposit()` method which manages the deposit actions.\n",
        "4. Create a `Withdrawal()` method  which manages withdrawals actions.\n",
        "5. Create an `bankFees()` method to apply the bank fees with a percentage of 5% of the balance account.\n",
        "6. Create a `display()` method to display account details.\n",
        "Give the complete code for the  BankAccount class."
      ],
      "metadata": {
        "id": "r_GxrS0Vrdom"
      }
    },
    {
      "cell_type": "markdown",
      "source": [
        "Eg.\n",
        "After making above classes and methods, on executing below code:-\n",
        "```\n",
        "newAccount = BankAccount(2178514584, \"Mandy\" , 2800)\n",
        "\n",
        "newAccount.Withdrawal(700)\n",
        "\n",
        "newAccount.Deposit(1000)\n",
        "\n",
        "newAccount.display()\n",
        "```\n",
        "\n",
        "`Output:`\n",
        "```\n",
        "Account Number :  2178514584\n",
        "Account Name :  Mandy\n",
        "Account Balance :  3100 ₹\n",
        "```"
      ],
      "metadata": {
        "id": "qvVkOUJgvTV_"
      }
    },
    {
      "cell_type": "code",
      "source": [
        "# write your code here\n",
        "class BankAccount:\n",
        "\n",
        "  def __init__(self, account_number, name, balance):\n",
        "    self.account_number = account_number\n",
        "    self.balance = balance\n",
        "    self.name = name\n",
        "\n",
        "\n",
        "  def deposit(self):\n",
        "    deposit = int(input(\"What amount would you like to deposit? \"))\n",
        "    self.balance +=deposit\n",
        "\n",
        "  def withdraw(self):\n",
        "    withdraw_amount = int(input(\"What amount would you like to withdraw? \"))\n",
        "    if withdraw_amount <= self.balance:\n",
        "      print(\"Amount withdrawn\")\n",
        "      self.balance -= withdraw_amount\n",
        "\n",
        "      # reducing bank fees from the balance\n",
        "      self.balance -= self.bankFees()\n",
        "      print(f\"Current balance: {self.balance}\")\n",
        "\n",
        "    else:\n",
        "      print(\"Insufficient funds\")\n",
        "\n",
        "  def bankFees(self):\n",
        "    return 0.05 * self.balance\n",
        "\n",
        "  def display(self):\n",
        "    print(f\"Account number: {self.account_number}\")\n",
        "    print(f\"Account holder name: {self.name}\")\n",
        "    print(f\"Account balance: {self.balance}\")\n",
        "\n",
        "\n",
        "a = BankAccount(1234, \"cap\", 1000)\n",
        "a.withdraw()"
      ],
      "metadata": {
        "id": "fUQOmQyA6YDR",
        "colab": {
          "base_uri": "https://localhost:8080/"
        },
        "outputId": "07eaee0c-89af-47f3-c53a-84071f5a900d"
      },
      "execution_count": 17,
      "outputs": [
        {
          "output_type": "stream",
          "name": "stdout",
          "text": [
            "What amount would you like to withdraw? 100\n",
            "Amount withdrawn\n",
            "Current balance: 855.0\n"
          ]
        }
      ]
    },
    {
      "cell_type": "code",
      "source": [],
      "metadata": {
        "id": "_9Za7JMPcz2A"
      },
      "execution_count": null,
      "outputs": []
    },
    {
      "cell_type": "markdown",
      "source": [
        "##`Q-3:Computation class`\n",
        "\n",
        "1. Create a `Computation` class with a default constructor (without parameters) allowing to perform various calculations on integers numbers.\n",
        "2. Create a method called `Factorial()` which allows to calculate the factorial of an integer n. Integer n as parameter for this method\n",
        "\n",
        "3. Create a method called `naturalSum()` allowing to calculate the sum of the first n integers 1 + 2 + 3 + .. + n. Integer n as parameter for this method.\n",
        "\n",
        "4. Create a method called `testPrime()` in  the Calculation class to test the primality of a given integer n, n is Prime or Not? Integer n as parameter for this method.\n",
        "\n",
        "5. Create  a method called `testPrims()` allowing to test if two numbers are prime between them. Two integers are prime to one another if they have only `1` as their common divisor. Eg. 4 and 9 are prime to each other.\n",
        "\n",
        "5. Create a `tableMult()` method which creates and displays the multiplication table of a given integer. Then create an `allTablesMult()` method to display all the integer multiplication tables 1, 2, 3, ..., 9.\n",
        "\n",
        "6. Create a static `listDiv()` method that gets all the divisors of a given integer on new list called  Ldiv. Create another `listDivPrim()` method that gets all the prime divisors of a given integer."
      ],
      "metadata": {
        "id": "QovcQAZTrgGU"
      }
    },
    {
      "cell_type": "code",
      "source": [
        "# write your code here\n",
        "class Computation:\n",
        "\n",
        "  def __init__(self):\n",
        "    pass\n",
        "\n",
        "  def Factorial(self, n):\n",
        "    result = 1\n",
        "    for i in range(1,n+1):\n",
        "      result *= i\n",
        "    return result\n",
        "\n",
        "  def naturalSum(self, n):\n",
        "    return (n * (n+1)) / 2\n",
        "\n",
        "\n",
        "  def isPrime(self, number):\n",
        "    flag= True\n",
        "    for i in range(2, number//2):\n",
        "      if number % i == 0:\n",
        "        flag=False\n",
        "        break\n",
        "\n",
        "    if flag:\n",
        "      return True\n",
        "    else:\n",
        "      return False\n",
        "\n",
        "\n",
        "  def testPrims(self, n1, n2):\n",
        "    l1 = []\n",
        "    l2 = []\n",
        "\n",
        "    a = n1 if  n1>n2 else n2\n",
        "    for i in range(1,a):\n",
        "      if n1%i ==0:\n",
        "        l1.append(i)\n",
        "      if n2%i == 0:\n",
        "        l2.append(i)\n",
        "\n",
        "    l1 = set(l1)\n",
        "    l2 = set(l2)\n",
        "\n",
        "    if len(l1.intersection(l2)) == 1:\n",
        "      return \"They are co-prime\"\n",
        "    else:\n",
        "      return \"They are not co-prime\"\n",
        "\n",
        "\n",
        "  def tableMult(self, num):\n",
        "    for i in range(1,11):\n",
        "      print(f\"{num} * {i} = {num*i}\")\n",
        "\n",
        "\n",
        "  def allTablesMult(self):\n",
        "    \"\"\"prints the multiplication tables of numbers from 1 to 9\"\"\"\n",
        "    for i in range(1,10):\n",
        "      print(f\"Multiplication table of {i}\")\n",
        "      self.tableMult(i)\n",
        "      print(\"------------------------------------------------\")\n",
        "\n",
        "\n",
        "  def listDiv(self, number):\n",
        "    \"\"\"returns a list of all the divisors of a number\"\"\"\n",
        "    l = [1]\n",
        "    for i in range(2, number+1):\n",
        "      if number%i==0:\n",
        "        l.append(i)\n",
        "    return l\n",
        "\n",
        "  def listPrimDiv(self, number):\n",
        "    \"\"\"returns a list of prime divisors of the number\"\"\"\n",
        "    l = [1]\n",
        "    for i in range(2, number+1):\n",
        "      if number%i==0 and self.isPrime(i):\n",
        "        l.append(i)\n",
        "\n",
        "    return l\n",
        "\n",
        "\n",
        "a = Computation()\n",
        "a.listPrimDiv(50)"
      ],
      "metadata": {
        "id": "YEkPH70l6Z-o",
        "colab": {
          "base_uri": "https://localhost:8080/"
        },
        "outputId": "254a9fc5-a46a-476b-ebd1-9c19e06ddc72"
      },
      "execution_count": 53,
      "outputs": [
        {
          "output_type": "execute_result",
          "data": {
            "text/plain": [
              "[1, 2, 5]"
            ]
          },
          "metadata": {},
          "execution_count": 53
        }
      ]
    },
    {
      "cell_type": "code",
      "source": [
        "a = {1,2,3}\n",
        "b = {2,4}\n",
        "len(a.intersection(b))"
      ],
      "metadata": {
        "id": "Vtthg5BU80J_",
        "outputId": "70c166ca-0013-4594-83e7-11b881d8ca9b",
        "colab": {
          "base_uri": "https://localhost:8080/"
        }
      },
      "execution_count": 33,
      "outputs": [
        {
          "output_type": "execute_result",
          "data": {
            "text/plain": [
              "1"
            ]
          },
          "metadata": {},
          "execution_count": 33
        }
      ]
    },
    {
      "cell_type": "markdown",
      "source": [
        "##`Q-4`: Build flashcard using class in Python.\n",
        "\n",
        "Build a flashcard using class in python. A flashcard is a card having information on both sides, which can be used as an aid in memoization. Flashcards usually have a question on one side and an answer on the other.\n",
        "\n",
        "**Example 1:**\n",
        "\n",
        "Approach:\n",
        "\n",
        "- Create a class named FlashCard.\n",
        "- Initialize dictionary fruits using __init__() method. Here you have to define fruit name as key and it's color as value. E.g., {\"Banana\": \"yellow\", \"Strawberries\": \"pink\"}\n",
        "- Now randomly choose a pair from fruits by using _random_ module and store the key in variable _fruit_ and _value_ in variable color.\n",
        "- Now prompt the user to answer the color of the randomly chosen fruit.\n",
        "- If correct print correct else print wrong.\n",
        "\n",
        "Output:\n",
        "```bash\n",
        "welcome to fruit quiz\n",
        "What is the color of Strawberries\n",
        "pink\n",
        "Correct answer\n",
        "Enter 0, if you want to play again: 0\n",
        "What is the color of watermelon\n",
        "green\n",
        "Correct answer\n",
        "Enter 0, if you want to play again: 1\n",
        "```"
      ],
      "metadata": {
        "id": "0yn23_oEriXa"
      }
    },
    {
      "cell_type": "code",
      "source": [
        "# write your code here\n",
        "\n",
        "import random\n",
        "\n",
        "\n",
        "class Flashcard:\n",
        "\n",
        "  def __init__(self):\n",
        "\n",
        "    fruits = {\n",
        "        \"apple\" : 'red',\n",
        "        \"watermelon\" : \"green\",\n",
        "        \"guava\" : \"green\",\n",
        "        \"mango\": \"yellow\",\n",
        "        \"orange\" : \"orange\"\n",
        "    }\n",
        "\n",
        "  def quiz(self):\n",
        "    while True:\n",
        "      fruit, color = random.choices(list(fruits.items()))[0\n",
        "                                                          ]\n",
        "\n",
        "      print(f\"What is the color of {fruit}?\")\n",
        "      answer = input()\n",
        "\n",
        "      if answer.lower() == color:\n",
        "        print(\"Correct!\")\n",
        "      else:\n",
        "        print(\"Incorrect!\")\n",
        "\n",
        "      # ask if user wants to continue the quiz\n",
        "      option = input(\"Enter 0 to continue and 1 to exit. \")\n",
        "      if option == 1:\n",
        "        break\n",
        "\n",
        "# a = Flashcard()\n",
        "# a.quiz()"
      ],
      "metadata": {
        "id": "vCrUF6VU6l6w"
      },
      "execution_count": 17,
      "outputs": []
    },
    {
      "cell_type": "code",
      "source": [],
      "metadata": {
        "id": "dZaDth9X6gLk"
      },
      "execution_count": null,
      "outputs": []
    },
    {
      "cell_type": "markdown",
      "source": [
        "## `Q-5:` Problem 5 based on OOP Python.\n",
        "\n",
        "TechWorld, a technology training center, wants to allocate courses for instructors. An instructor is identified by name, technology skills, experience and average feedback. An instructor is allocated a course, if he/she satisfies the below two conditions:\n",
        "- eligibility criteria:\n",
        "    - if experience is more than 3 years, average feedback should be 4.5 or more\n",
        "    - if experience is 3 years or less, average feedback should be 4 or more\n",
        "- he/she should posses the technology skill for the course\n",
        "\n",
        "Identify the class name and attributes to represent instructors. Write a Python program to implement the class chosen with its attributes and methods.\n",
        "\n",
        "**Note:**\n",
        "- Consider all instance variables to be private and methods to be public.\n",
        "- An instructor may have multiple technology skills, so consider instance variable, technology_skill to be a list.\n",
        "- *check_eligibility()*: Return true if eligibility criteria is satisfied by the instructor. Else, return false\n",
        "- *allocate_course(technology)*: Return true if the course which requires the given technology can be allocated to the instructor. Else, return false.\n",
        "\n",
        "Represent a few objects of the class, initialize instance variables using setter methods, invoke\n",
        "appropriate methods and test your program."
      ],
      "metadata": {
        "id": "GN2r0jbRewYr"
      }
    },
    {
      "cell_type": "code",
      "source": [
        "# write your code here\n",
        "class Instructor:\n",
        "\n",
        "  def __init__(self, name, tech_skills, experience, feedback):\n",
        "    self.__name = name\n",
        "    self.__tech_skills = tech_skills\n",
        "    self.__experience = experience\n",
        "    self.__feedback = feedback\n",
        "\n",
        "\n",
        "  def check_eligibility(self):\n",
        "    if self.__experience >= 3 and self.__feedback >= 4.5:\n",
        "      return True\n",
        "    elif self.__experience <= 3 and self.__feedback >=4:\n",
        "      return True\n",
        "    else:\n",
        "      return False\n",
        "\n",
        "\n",
        "  def allocate_course(self, skill):\n",
        "    is_eligible = self.check_eligibility()\n",
        "    if is_eligible:\n",
        "      if skill in self.__tech_skills:\n",
        "        return True\n",
        "      else:\n",
        "        return False\n",
        "    else:\n",
        "      return False\n",
        "\n",
        "a = Instructor(\"diya\", ['english', \"web development\"], 5, 4.9)\n",
        "a.allocate_course(\"english\")"
      ],
      "metadata": {
        "id": "pdMFuVFnlvKL",
        "colab": {
          "base_uri": "https://localhost:8080/"
        },
        "outputId": "ba42d368-6b18-4550-c0c9-107f906a8e89"
      },
      "execution_count": 25,
      "outputs": [
        {
          "output_type": "execute_result",
          "data": {
            "text/plain": [
              "True"
            ]
          },
          "metadata": {},
          "execution_count": 25
        }
      ]
    }
  ]
}