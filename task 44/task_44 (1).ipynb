{
 "cells": [
  {
   "cell_type": "code",
   "execution_count": null,
   "metadata": {
    "id": "XgzoYlFVitRx"
   },
   "outputs": [],
   "source": [
    "import numpy as np\n",
    "import pandas as pd\n",
    "from scipy.stats import t\n",
    "\n",
    "import seaborn as sns\n",
    "import matplotlib.pyplot as plt"
   ]
  },
  {
   "cell_type": "markdown",
   "metadata": {
    "id": "H5qEnExoiv0E"
   },
   "source": [
    "`Question: 1` A company wants to estimate the average time spent by customers on their website per session. They collect a random sample of 100 customers and find that the sample mean time spent is 4.5 minutes with a sample standard deviation of 1.2 minutes. Calculate a 99% confidence interval for the true population mean time spent on the website per session.\n",
    "\n",
    "\n",
    "`Question 2:` A car manufacturer is interested in estimating the mean gas mileage of their new SUV. A sample of 25 SUVs is taken, and their mean gas mileage is found to be 28.6 miles per gallon with a standard deviation of 2.8 miles per gallon. Calculate a 95% confidence interval for the true mean gas mileage of the SUV."
   ]
  },
  {
   "cell_type": "code",
   "execution_count": null,
   "metadata": {
    "colab": {
     "base_uri": "https://localhost:8080/"
    },
    "id": "QGvabFrYXMaB",
    "outputId": "4b5edbf9-e7fc-4765-fd73-e5657fff759d"
   },
   "outputs": [],
   "source": [
    "# q-1\n",
    "import scipy\n",
    "n = 100\n",
    "x_bar = 4.5 # sample mean\n",
    "s = 1.2  # sample standard deviation\n",
    "\n",
    "cl = .99\n",
    "critical_value = scipy.stats.t.ppf(q=(1-cl)/2, df=n-1)\n",
    "\n",
    "margin_of_error = (critical_value*s)/np.sqrt(n)\n",
    "\n",
    "lower_limit = round(x_bar-margin_of_error, 3)\n",
    "upper_limit = round(x_bar+margin_of_error, 3)\n",
    "\n",
    "print(f\"the confidence interval is: {upper_limit} - {lower_limit}\")"
   ]
  },
  {
   "cell_type": "code",
   "execution_count": null,
   "metadata": {
    "id": "zncqPk2hXMV3"
   },
   "outputs": [],
   "source": []
  },
  {
   "cell_type": "code",
   "execution_count": null,
   "metadata": {
    "colab": {
     "base_uri": "https://localhost:8080/"
    },
    "id": "iTeDgAXBXMSS",
    "outputId": "50282809-1366-4147-8d9e-f8405d6cc9cc"
   },
   "outputs": [],
   "source": [
    "# Q2\n",
    "n =25\n",
    "x_bar = 28.6\n",
    "s = 2.8\n",
    "\n",
    "alpha = 1-0.95\n",
    "critical_value=  -1 * (scipy.stats.t.ppf(q=alpha/2, df=n-1))\n",
    "\n",
    "margin_of_error = (critical_value*s)/ np.sqrt(n)\n",
    "lower_limit = round(x_bar - margin_of_error, 3)\n",
    "upper_limit = round(x_bar + margin_of_error, 3)\n",
    "print(f\"the confidence interval is: {lower_limit} - {upper_limit}\")"
   ]
  },
  {
   "cell_type": "code",
   "execution_count": null,
   "metadata": {
    "id": "sLXYLCoyXMNH"
   },
   "outputs": [],
   "source": []
  },
  {
   "cell_type": "code",
   "execution_count": null,
   "metadata": {
    "id": "Udap4_LGXMH9"
   },
   "outputs": [],
   "source": []
  },
  {
   "cell_type": "markdown",
   "metadata": {
    "id": "susAVpwsi3rx"
   },
   "source": [
    "`Question -3:` Dataset - India temperature dataset.\n",
    "\n",
    "Data link: https://drive.google.com/file/d/1whb8Rjdk9TBKOwVi8NwZD1Tc8Tdv7iEc/view?usp=share_link\n",
    "\n",
    "Kaggle Link : (Just take IND data for this question, have to apply filtering). https://www.kaggle.com/datasets/berkeleyearth/climate-change-earth-surface-temperature-data\n",
    "\n",
    "A climate research organization wants to estimate the average temperature of a certain country. They collect temperature data for 2613 days but due to certain limitations, they only have information about the average temperature for 2508 days. The organization assumes that the population follows a normal distribution and wants to estimate the population mean temperature with a 95% confidence interval.\n",
    "\n",
    "* Standard deviation is assumed as given data standard deviation. z Procedure\n",
    "* Standard deviation is not given. Apply t Procedure"
   ]
  },
  {
   "cell_type": "code",
   "execution_count": null,
   "metadata": {
    "colab": {
     "base_uri": "https://localhost:8080/",
     "height": 206
    },
    "id": "4gbYJ-f2cWSo",
    "outputId": "9017d193-75cc-4e5b-f4f1-704732c448b4"
   },
   "outputs": [],
   "source": [
    "data = pd.read_csv('/content/ind_temp.csv')\n",
    "data.head()"
   ]
  },
  {
   "cell_type": "code",
   "execution_count": null,
   "metadata": {
    "colab": {
     "base_uri": "https://localhost:8080/",
     "height": 472
    },
    "id": "OLrT0_13dHte",
    "outputId": "5d24d217-23e2-449e-b3f8-6fa3aec7daab"
   },
   "outputs": [],
   "source": [
    "import seaborn as sns\n",
    "import matplotlib.pyplot as plt\n",
    "\n",
    "\n",
    "sns.kdeplot(data['AverageTemperature'])\n",
    "plt.title('KDE OF average temperature');"
   ]
  },
  {
   "cell_type": "code",
   "execution_count": null,
   "metadata": {
    "colab": {
     "base_uri": "https://localhost:8080/",
     "height": 452
    },
    "id": "xwlOlHY1dMtG",
    "outputId": "97747c0a-f1cf-4333-c1ee-83d0ec32cbf2"
   },
   "outputs": [],
   "source": [
    "samples = []\n",
    "stds = []\n",
    "\n",
    "for i in range(200):\n",
    "  sample = data['AverageTemperature'].dropna().sample(50)\n",
    "  samples.append(sample.tolist())\n",
    "  stds.append(np.std(sample))\n",
    "\n",
    "samples = np.array(samples)\n",
    "samples_mean = np.mean(samples, axis=1)\n",
    "samples_std = np.mean(stds)\n",
    "\n",
    "sns.kdeplot(samples_mean)\n",
    "plt.title('KDE plot of sampling distribution of sample means');"
   ]
  },
  {
   "cell_type": "code",
   "execution_count": null,
   "metadata": {
    "colab": {
     "base_uri": "https://localhost:8080/"
    },
    "id": "gDQd2gDUeSbh",
    "outputId": "b005c0c7-dc6e-4272-dc1b-f2f6bab0d330"
   },
   "outputs": [],
   "source": [
    "# Z procedure\n",
    "n=50\n",
    "alpha = 1 - 0.95\n",
    "x_bar = samples_mean.mean()\n",
    "sigma = data['AverageTemperature'].std()   # population standard deviation\n",
    "\n",
    "z = scipy.stats.norm.ppf(.975)\n",
    "margin_of_error = (z*sigma)/np.sqrt(n)\n",
    "\n",
    "lower_limit = round(x_bar - margin_of_error, 2)\n",
    "upper_limit = round(x_bar + margin_of_error, 2)\n",
    "\n",
    "print(f\"the confidence interval is: {lower_limit} - {upper_limit}\")\n",
    "\n",
    "print(f\"Actual value of population mean: {data['AverageTemperature'].mean()}\")"
   ]
  },
  {
   "cell_type": "code",
   "execution_count": null,
   "metadata": {
    "colab": {
     "base_uri": "https://localhost:8080/"
    },
    "id": "18Kw-a9IbmaT",
    "outputId": "6614ee78-e133-4708-d119-aebf0b5d9904"
   },
   "outputs": [],
   "source": [
    "# t- procedure\n",
    "\n",
    "n = 50 # as per above cell\n",
    "alpha = 1 - 0.95\n",
    "x_bar = samples_mean.mean()\n",
    "s = samples_std\n",
    "\n",
    "critical_value = -1* scipy.stats.t.ppf(q=alpha/2, df=n-1)\n",
    "\n",
    "margin_of_error = (critical_value*s)/np.sqrt(n)\n",
    "\n",
    "lower_limit = round(x_bar - margin_of_error, 2)\n",
    "upper_limit = round(x_bar + margin_of_error, 2)\n",
    "\n",
    "print(f\"the confidence interval is: {lower_limit} - {upper_limit}\")"
   ]
  },
  {
   "cell_type": "code",
   "execution_count": null,
   "metadata": {
    "id": "OqfsxNpDbkss"
   },
   "outputs": [],
   "source": []
  },
  {
   "cell_type": "code",
   "execution_count": null,
   "metadata": {
    "id": "0AflwwQsbkij"
   },
   "outputs": [],
   "source": []
  },
  {
   "cell_type": "markdown",
   "metadata": {
    "id": "6jZBbFSoi88d"
   },
   "source": [
    "`Question 5:` BMW Dataset : https://drive.google.com/file/d/18amVv1WKKHEmwyvVy0RuXp4A6xrGOelc/view?usp=share_link\n",
    "\n",
    "\n",
    "\n",
    "* Task 1:\n",
    "The sales manager of a used car company wants to know what is the average selling price of all the used bmw cars.\n",
    "The analyst can collect only a sample of sales of 500 cars in the area. Since this estimate is going to be used by the company to strategize sales of his company, the sample mean should be a good approximation of all the account.\n",
    "What level of confidence is the sales manager going to be satisfied with? What +/- interval number is going to be acceptable?\n",
    "\n",
    "* Task 2:\n",
    "In addition to the price of the car, the manager also wants to now know the average mileage that the car has been driven. But the manager does not have the population standard deviation for the mileage. But the mileage data is available only from the 25 cars that they have sold so far.\n",
    "How do the analyst approach this problem to calculate 95% confidence interval, with only 25 samples?\n",
    "\n",
    "* Task 3:\n",
    "The manager is not happy with both the intervals (intervals from task 1 and 2) as the interval for the confidence is very high. The manager now asks the analyst to estimate the average price of the car (similar to task 1) but within a bound of 750 from the mean with 95% condidence level. How many sample does the analyst have to collect to arrive at this confidence interval level?\n",
    "\n",
    "* Task 4:\n",
    "Conversely, after the analyst started collecting the data, after a week he was only able to collect for 420 samples, though he needs 540 samples for Bound of 1,000, if he has to do the analysis now, what is the best interval he can acheive for 95% confidence levels?"
   ]
  },
  {
   "cell_type": "code",
   "execution_count": null,
   "metadata": {
    "id": "77c2kBzBi3Fc"
   },
   "outputs": [],
   "source": [
    "bmw = pd.read_csv('bmw.csv')\n",
    "bmw.head()"
   ]
  },
  {
   "cell_type": "code",
   "execution_count": null,
   "metadata": {},
   "outputs": [],
   "source": [
    "bmw.shape"
   ]
  },
  {
   "cell_type": "code",
   "execution_count": null,
   "metadata": {},
   "outputs": [],
   "source": [
    "# TASK 1\n",
    "# 95% confidence interval -> we can be wrong 5 out of 100 times\n",
    "\n",
    "import scipy\n",
    "\n",
    "n = 500\n",
    "sample = bmw.sample(500)\n",
    "x_bar = sample['price'].mean()\n",
    "population_std = bmw['price'].std()\n",
    "\n",
    "cl = 0.95\n",
    "alpha = 1-cl\n",
    "critical_value = -1 * scipy.stats.norm.ppf(alpha/2)\n",
    "\n",
    "margin_of_error = (critical_value*population_std)/np.sqrt(n)\n",
    "\n",
    "lower_limit = x_bar - margin_of_error\n",
    "upper_limit = x_bar + margin_of_error\n",
    "\n",
    "print(f\"95% confidence interval: {lower_limit} - {upper_limit}\")\n",
    "print(f\"Actual mean price of the entire data: {bmw['price'].mean()}\")\n",
    "print(population_std)"
   ]
  },
  {
   "cell_type": "code",
   "execution_count": null,
   "metadata": {},
   "outputs": [],
   "source": []
  },
  {
   "cell_type": "code",
   "execution_count": null,
   "metadata": {},
   "outputs": [],
   "source": [
    "# Task 2\n",
    "\n",
    "n = 25\n",
    "sample = bmw['mileage'].sample(n, random_state=1)\n",
    "s = sample.std()\n",
    "#t-procedure\n",
    "cl = 0.95\n",
    "alpha = 1-cl\n",
    "# t = .95 +(alpha/2)\n",
    "critical_value = scipy.stats.t.ppf(q=cl+alpha/2, df=n-1)\n",
    "margin_of_error = (critical_value*s)/np.sqrt(n)\n",
    "\n",
    "lower_limit = round(x_bar - margin_of_error, 2)\n",
    "upper_limit = round(x_bar + margin_of_error, 2)\n",
    "\n",
    "print(f\"95% confidence interval: {lower_limit} - {upper_limit}\")\n",
    "print(f\"Actual mean mileage of the entire data: {bmw['mileage'].mean()}\")"
   ]
  },
  {
   "cell_type": "code",
   "execution_count": null,
   "metadata": {},
   "outputs": [],
   "source": []
  },
  {
   "cell_type": "code",
   "execution_count": null,
   "metadata": {},
   "outputs": [],
   "source": [
    "# Task 3\n",
    "\n",
    "#price\n",
    "bmw\n",
    "samples =[]\n",
    "stds = []\n",
    "n=50\n",
    "for i in range(100):\n",
    "    sample = bmw['price'].sample(n)\n",
    "    samples.append(sample)\n",
    "    stds.append(sample.std())\n",
    "    \n",
    "samples = np.array(samples)\n",
    "x_bar = np.mean(samples)\n",
    "s = np.mean(stds)\n",
    "\n",
    "cl = .95\n",
    "alpha = 1-0.95\n",
    "critical_value = scipy.stats.t.ppf(cl+alpha/2, df=n-1)\n",
    "\n",
    "print(f\"Critical value: {critical_value}\")\n",
    "print(f\"sample standard deviation: {s}\")"
   ]
  },
  {
   "cell_type": "code",
   "execution_count": null,
   "metadata": {},
   "outputs": [],
   "source": []
  },
  {
   "cell_type": "code",
   "execution_count": null,
   "metadata": {},
   "outputs": [],
   "source": [
    "# Task 4\n",
    "\n",
    "#price\n",
    "\n",
    "n=420\n",
    "sample = bmw['price'].sample(n)\n",
    "x_bar = sample.mean()\n",
    "s = sample.std()\n",
    "\n",
    "cl = 0.95\n",
    "alpha  = 1-cl\n",
    "critical_value = scipy.stats.t.ppf(cl+alpha/2, df=n-1)\n",
    "\n",
    "print(f\"Critical value: {critical_value}\")\n",
    "print(f\"Sample standard deviation: {s}\")"
   ]
  },
  {
   "cell_type": "code",
   "execution_count": null,
   "metadata": {},
   "outputs": [],
   "source": []
  },
  {
   "cell_type": "code",
   "execution_count": null,
   "metadata": {},
   "outputs": [],
   "source": []
  }
 ],
 "metadata": {
  "colab": {
   "provenance": []
  },
  "kernelspec": {
   "display_name": "Python 3 (ipykernel)",
   "language": "python",
   "name": "python3"
  },
  "language_info": {
   "codemirror_mode": {
    "name": "ipython",
    "version": 3
   },
   "file_extension": ".py",
   "mimetype": "text/x-python",
   "name": "python",
   "nbconvert_exporter": "python",
   "pygments_lexer": "ipython3",
   "version": "3.9.13"
  }
 },
 "nbformat": 4,
 "nbformat_minor": 4
}
