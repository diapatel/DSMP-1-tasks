{
  "nbformat": 4,
  "nbformat_minor": 0,
  "metadata": {
    "colab": {
      "provenance": []
    },
    "kernelspec": {
      "name": "python3",
      "display_name": "Python 3"
    },
    "language_info": {
      "name": "python"
    }
  },
  "cells": [
    {
      "cell_type": "markdown",
      "source": [
        "### **`Problem-1:`** Write a Python function that takes a list and returns a new list with unique elements of the first list.\n",
        "\n",
        "**Exercise 1:**\n",
        "\n",
        "Input:\n",
        "\n",
        "```bash\n",
        "[1,2,3,3,3,3,4,5]\n",
        "```\n",
        "\n",
        "Output:\n",
        "\n",
        "```bash\n",
        "[1, 2, 3, 4, 5]\n",
        "```"
      ],
      "metadata": {
        "id": "h6dDSW5XGZFi"
      }
    },
    {
      "cell_type": "code",
      "source": [
        "def return_unique(lst):\n",
        "  \"\"\"input: list with integers\n",
        "  output : new list with unique elements only\"\"\"\n",
        "  return list(set(lst))\n",
        "\n",
        "return_unique([1,2,1,2,2])"
      ],
      "metadata": {
        "id": "R5pq1C9LGe1y",
        "colab": {
          "base_uri": "https://localhost:8080/"
        },
        "outputId": "980b6981-b37b-4f46-8b85-86415ee2c214"
      },
      "execution_count": 1,
      "outputs": [
        {
          "output_type": "execute_result",
          "data": {
            "text/plain": [
              "[1, 2]"
            ]
          },
          "metadata": {},
          "execution_count": 1
        }
      ]
    },
    {
      "cell_type": "code",
      "source": [],
      "metadata": {
        "id": "XCvlgR6yuzDy"
      },
      "execution_count": null,
      "outputs": []
    },
    {
      "cell_type": "markdown",
      "source": [
        "### **`Problem-2:`** Write a Python function that accepts a hyphen-separated sequence of words as parameter and returns the words in a hyphen-separated sequence after sorting them alphabetically.\n",
        "\n",
        "**Example 1:**\n",
        "\n",
        "Input:\n",
        "```bash\n",
        "green-red-yellow-black-white\n",
        "```\n",
        "\n",
        "Output:\n",
        "```bash\n",
        "black-green-red-white-yellow\n",
        "```"
      ],
      "metadata": {
        "id": "UxQ_VoyJGwHj"
      }
    },
    {
      "cell_type": "code",
      "source": [
        "# Write code here\n",
        "def func(text):\n",
        "  \"\"\"Input : hyphen separated sequence of words\n",
        "  Output: alphabetically arranged hyphen separated sequence of words\"\"\"\n",
        "\n",
        "  lst = [word for word in text.split(\"-\")]\n",
        "  sorted_lst  = sorted(lst)\n",
        "  return \"-\".join(sorted_lst)\n",
        "\n",
        "func(\"green-red-yellow-black-white\")"
      ],
      "metadata": {
        "id": "AAts2m5zGwiQ",
        "colab": {
          "base_uri": "https://localhost:8080/",
          "height": 36
        },
        "outputId": "c67e174e-c269-48d2-8512-ca075c85493f"
      },
      "execution_count": 3,
      "outputs": [
        {
          "output_type": "execute_result",
          "data": {
            "text/plain": [
              "'black-green-red-white-yellow'"
            ],
            "application/vnd.google.colaboratory.intrinsic+json": {
              "type": "string"
            }
          },
          "metadata": {},
          "execution_count": 3
        }
      ]
    },
    {
      "cell_type": "code",
      "source": [],
      "metadata": {
        "id": "-G69560pvHrw"
      },
      "execution_count": null,
      "outputs": []
    },
    {
      "cell_type": "markdown",
      "source": [
        "### **`Problem 3:`** Write a Python function that accepts a string and calculate the number of upper case letters and lower case letters.\n",
        "\n",
        "```\n",
        "Sample String : 'CampusX is an Online Mentorship Program fOr EnginEering studentS.'\n",
        "Expected Output :\n",
        "No. of Upper case characters :  9\n",
        "No. of Lower case Characters :  47\n",
        "```"
      ],
      "metadata": {
        "id": "IRGH62S7Gx_n"
      }
    },
    {
      "cell_type": "code",
      "source": [
        "# Write code here\n",
        "def count_case(text):\n",
        "  upper = 0\n",
        "  lower = 0\n",
        "\n",
        "  for char in text:\n",
        "    if char.isalpha():\n",
        "      if char.isupper():\n",
        "        upper+=1\n",
        "\n",
        "      else:\n",
        "        lower+=1\n",
        "\n",
        "  print(f\"Number of upper case characters: {upper}\")\n",
        "  print(f\"Number of lower case characters: {lower}\")\n",
        "\n",
        "count_case('CampusX is an Online Mentorship Program fOr EnginEering studentS.')"
      ],
      "metadata": {
        "id": "OaUrD8vVG5o8",
        "colab": {
          "base_uri": "https://localhost:8080/"
        },
        "outputId": "695d8b4d-5aff-4ff5-ce80-7a9f201d7cbc"
      },
      "execution_count": 4,
      "outputs": [
        {
          "output_type": "stream",
          "name": "stdout",
          "text": [
            "Number of upper case characters: 9\n",
            "Number of lower case characters: 47\n"
          ]
        }
      ]
    },
    {
      "cell_type": "code",
      "source": [],
      "metadata": {
        "id": "rq5_GOypvuUZ"
      },
      "execution_count": null,
      "outputs": []
    },
    {
      "cell_type": "markdown",
      "source": [
        "### **`Problem 4:`** Write a Python program to print the even numbers from a given list.\n",
        "```\n",
        "Sample List : [1, 2, 3, 4, 5, 6, 7, 8, 9]\n",
        "Expected Result : [2, 4, 6, 8]\n",
        "```"
      ],
      "metadata": {
        "id": "V1BFFdYQG7Sn"
      }
    },
    {
      "cell_type": "code",
      "source": [
        "# Write code here\n",
        "def return_even(lst):\n",
        "  \"\"\"Input : list with integers\n",
        "  Output: new list with even integers only\"\"\"\n",
        "\n",
        "  even_lst = [number for number in lst if number%2==0]\n",
        "  return even_lst\n",
        "\n",
        "return_even([1, 2, 3, 4, 5, 6, 7, 8, 9])"
      ],
      "metadata": {
        "id": "VvAReLoDG_Z3",
        "colab": {
          "base_uri": "https://localhost:8080/"
        },
        "outputId": "3c9c8596-b439-48e8-c112-e3eeb69428f1"
      },
      "execution_count": 5,
      "outputs": [
        {
          "output_type": "execute_result",
          "data": {
            "text/plain": [
              "[2, 4, 6, 8]"
            ]
          },
          "metadata": {},
          "execution_count": 5
        }
      ]
    },
    {
      "cell_type": "code",
      "source": [],
      "metadata": {
        "id": "-S7EYhitwMs5"
      },
      "execution_count": null,
      "outputs": []
    },
    {
      "cell_type": "markdown",
      "source": [
        "### **`Problem 5:`** Write a Python function to check whether a number is perfect or not.\n",
        "\n",
        "A Perfect number is a number that is half the sum of all of its positive divisors (including itself).\n",
        "\n",
        "Example :\n",
        "\n",
        "```\n",
        "The first perfect number is 6, because 1, 2, and 3 are its proper positive divisors, and 1 + 2 + 3 = 6.\n",
        "Equivalently, the number 6 is equal to half the sum of all its positive divisors: ( 1 + 2 + 3 + 6 ) / 2 = 6.\n",
        "\n",
        "The next perfect number is 28 = 1 + 2 + 4 + 7 + 14. This is followed by the perfect numbers 496 and 8128.\n",
        "```\n"
      ],
      "metadata": {
        "id": "qrK39Gn-HHb4"
      }
    },
    {
      "cell_type": "code",
      "source": [
        "# Write code here\n",
        "def is_perfect(number):\n",
        "  \"\"\"checks if a number is perfect\"\"\"\n",
        "\n",
        "  divisors = []\n",
        "  divisors.extend([1,number])\n",
        "\n",
        "  for i in range(2,number):\n",
        "    if number%i == 0:\n",
        "      divisors.append(i)\n",
        "\n",
        "\n",
        "  if sum(divisors)/2 == number:\n",
        "    return True\n",
        "  else:\n",
        "    return False\n",
        "\n",
        "\n",
        "is_perfect(496)"
      ],
      "metadata": {
        "id": "P-OI7H78HICs",
        "colab": {
          "base_uri": "https://localhost:8080/"
        },
        "outputId": "81ee047d-bf76-48ec-d96b-b39fa0754fe0"
      },
      "execution_count": 7,
      "outputs": [
        {
          "output_type": "execute_result",
          "data": {
            "text/plain": [
              "True"
            ]
          },
          "metadata": {},
          "execution_count": 7
        }
      ]
    },
    {
      "cell_type": "code",
      "source": [],
      "metadata": {
        "id": "AdrVwPa3wgYq"
      },
      "execution_count": null,
      "outputs": []
    },
    {
      "cell_type": "markdown",
      "source": [
        "### **`Problem-6:`** Write a Python function to concatenate any no of dictionaries to create a new one.\n",
        "\n",
        "```\n",
        "Sample Dictionary :\n",
        "dic1={1:10, 2:20}\n",
        "dic2={3:30, 4:40}\n",
        "dic3={5:50,6:60}\n",
        "Expected Result : {1: 10, 2: 20, 3: 30, 4: 40, 5: 50, 6: 60}\n",
        "```"
      ],
      "metadata": {
        "id": "oZdpcG77HO-6"
      }
    },
    {
      "cell_type": "code",
      "source": [
        "# Write code here\n",
        "def concat_dict(*kwargs):\n",
        "  \"\"\"Input: multiple dictionaries\n",
        "  Output: a dictionary that concatenates all the dictionaries given by the user\"\"\"\n",
        "\n",
        "  d = {}\n",
        "\n",
        "  for i in kwargs:\n",
        "    d.update(i)\n",
        "\n",
        "  return d\n",
        "\n",
        "dic1={1:10, 2:20}\n",
        "dic2={3:30, 4:40}\n",
        "dic3={5:50,6:60}\n",
        "\n",
        "concat_dict(dic1, dic2, dic3)"
      ],
      "metadata": {
        "id": "LQgfAY4ZHPhj",
        "colab": {
          "base_uri": "https://localhost:8080/"
        },
        "outputId": "c81aafa0-aa6d-48cd-ebd9-78a9e6026ef7"
      },
      "execution_count": 8,
      "outputs": [
        {
          "output_type": "execute_result",
          "data": {
            "text/plain": [
              "{1: 10, 2: 20, 3: 30, 4: 40, 5: 50, 6: 60}"
            ]
          },
          "metadata": {},
          "execution_count": 8
        }
      ]
    },
    {
      "cell_type": "code",
      "source": [],
      "metadata": {
        "id": "wL_d9HSixNOx"
      },
      "execution_count": null,
      "outputs": []
    },
    {
      "cell_type": "markdown",
      "source": [
        "`Problem-7` Write a python function that accepts a string as input and returns the word with most occurence.\n",
        "\n",
        "```\n",
        "Input:\n",
        "hello how are you i am fine thank you\n",
        "```\n",
        "\n",
        "```\n",
        "Output\n",
        "you -> 2\n",
        "```"
      ],
      "metadata": {
        "id": "jQ6SzbCkHRd0"
      }
    },
    {
      "cell_type": "code",
      "source": [
        "# Write code here\n",
        "def return_most_used(text):\n",
        "  d = {}\n",
        "\n",
        "  for word in text.split(\" \"):\n",
        "    if word in d:\n",
        "      d[word] += 1\n",
        "\n",
        "    else:\n",
        "      d[word] = 1\n",
        "\n",
        "  max_value = max(d.values())\n",
        "  key_with_max_value = None\n",
        "\n",
        "  # fetching the key whose value = max_value\n",
        "  for key,value in d.items():\n",
        "    if d[key] == max_value:\n",
        "      key_with_max_value = key\n",
        "\n",
        "  return f\"{key_with_max_value} -> {max_value}\"\n",
        "\n",
        "return_most_used(\"hello hello you\")"
      ],
      "metadata": {
        "id": "Lh04JHLzIW7Z",
        "colab": {
          "base_uri": "https://localhost:8080/",
          "height": 36
        },
        "outputId": "96c56add-eb36-465d-9e7d-e6474b371961"
      },
      "execution_count": 11,
      "outputs": [
        {
          "output_type": "execute_result",
          "data": {
            "text/plain": [
              "'hello -> 2'"
            ],
            "application/vnd.google.colaboratory.intrinsic+json": {
              "type": "string"
            }
          },
          "metadata": {},
          "execution_count": 11
        }
      ]
    },
    {
      "cell_type": "code",
      "source": [],
      "metadata": {
        "id": "LUAY8DkxxR3x"
      },
      "execution_count": null,
      "outputs": []
    },
    {
      "cell_type": "markdown",
      "source": [
        "`Problem-8` Write a python function that receives a list of integers and prints out a histogram of bin size 10\n",
        "\n",
        "```\n",
        "Input:\n",
        "[13,42,15,37,22,39,41,50]\n",
        "```\n",
        "\n",
        "```\n",
        "Output:\n",
        "{11-20:2,21-30:1,31-40:2,41-50:3}\n",
        "```"
      ],
      "metadata": {
        "id": "1r8SpVntI-IW"
      }
    },
    {
      "cell_type": "code",
      "source": [
        "# Write code here\n",
        "import math\n",
        "\n",
        "\n",
        "def return_histogram(lst):\n",
        "\n",
        "  \"\"\"Takes a list of numbers\n",
        "  Ouput: returns a dictionary that has range of numbers as keys and the frequency of elements within that range as values, just like a histogram \"\"\"\n",
        "\n",
        "  min_bin = (math.floor(min(L)/10)) * 10\n",
        "  max_bin = (math.ceil(max(L)/10)) * 10\n",
        "\n",
        "  d = {}\n",
        "\n",
        "  for i in range(min_bin, max_bin, 10):\n",
        "    count = 0\n",
        "    for j in L:\n",
        "      if i+1 <= j <= i+10:\n",
        "        count+=1\n",
        "\n",
        "    d[str(i+1) + \"-\" + str(i+10)] = count\n",
        "\n",
        "  return d\n",
        "\n",
        "L = [13,42,15,37,22,39,41,50]\n",
        "return_histogram(L)"
      ],
      "metadata": {
        "id": "7W0J8rUjJovg",
        "colab": {
          "base_uri": "https://localhost:8080/"
        },
        "outputId": "1ba5d39a-6fa6-4873-b4b6-9d586731d617"
      },
      "execution_count": 33,
      "outputs": [
        {
          "output_type": "execute_result",
          "data": {
            "text/plain": [
              "{'11-20': 2, '21-30': 1, '31-40': 2, '41-50': 3}"
            ]
          },
          "metadata": {},
          "execution_count": 33
        }
      ]
    },
    {
      "cell_type": "code",
      "source": [],
      "metadata": {
        "id": "Krf9Rs5C-UcQ"
      },
      "execution_count": null,
      "outputs": []
    },
    {
      "cell_type": "markdown",
      "source": [
        "`Problem-9` Write a python function that accepts a list of 2D co-ordinates and a query point, and then finds the the co-ordinate which is closest in terms of distance from the query point.\n",
        "\n",
        "```\n",
        "List of Coordinates\n",
        "[(1,1),(2,2),(3,3),(4,4)]\n",
        "Query Point\n",
        "(0,0)\n",
        "```\n",
        "\n",
        "```\n",
        "Output\n",
        "Nearest to (0,0) is (1,1)\n",
        "```"
      ],
      "metadata": {
        "id": "1P2-rbgXKE53"
      }
    },
    {
      "cell_type": "code",
      "source": [
        "# Write code here\n",
        "def closest_point(coordinates, query):\n",
        "  \"\"\"Input: takes a list of tuples, where each tuple has the coordinates of a 2-D point and a query point\n",
        "  Output: coordinates of the point that is closest to the query point\"\"\"\n",
        "\n",
        "  d = []\n",
        "  for i in coordinates:\n",
        "    distance = (((i[0] - query[0]) **2) + ((i[1] - query[1]) **2)) ** 0.5\n",
        "    d.append(distance)\n",
        "\n",
        "  sorted_d = sorted(enumerate(d), key=lambda x: x[1])\n",
        "\n",
        "  # returning the coordinate corresponding to the shortest distance\n",
        "  idx = sorted_d[0][0]\n",
        "  return f\"Point nearest to {query} is {coordinates[idx]}\"\n",
        "\n",
        "coordinates = [(1,1),(2,2),(3,3),(4,4)]\n",
        "query = (0,0)\n",
        "closest_point(coordinates, query)"
      ],
      "metadata": {
        "id": "zjn7vSTIJ81G",
        "colab": {
          "base_uri": "https://localhost:8080/",
          "height": 36
        },
        "outputId": "ae2d396f-99a9-455a-c26d-6fa7eae2d564"
      },
      "execution_count": 26,
      "outputs": [
        {
          "output_type": "execute_result",
          "data": {
            "text/plain": [
              "'Point nearest to (0, 0) is (1, 1)'"
            ],
            "application/vnd.google.colaboratory.intrinsic+json": {
              "type": "string"
            }
          },
          "metadata": {},
          "execution_count": 26
        }
      ]
    },
    {
      "cell_type": "code",
      "source": [],
      "metadata": {
        "id": "R-0g1Nij8KhO"
      },
      "execution_count": null,
      "outputs": []
    },
    {
      "cell_type": "markdown",
      "source": [
        "`Problem-10`:Write a python program that receives a list of strings and performs bag of word operation on those strings\n",
        "\n",
        "https://en.wikipedia.org/wiki/Bag-of-words_model"
      ],
      "metadata": {
        "id": "i-B6igmyK9hB"
      }
    },
    {
      "cell_type": "code",
      "source": [
        "# Write code here\n",
        "def bow(lst):\n",
        "  \"\"\"Input : list of strings\n",
        "  Output : a dictionary with unique words in the list as keys and their frequency as their values\"\"\"\n",
        "\n",
        "  d = {}\n",
        "  for string in lst:\n",
        "    for word in string.split(\" \"):\n",
        "      if word in d:\n",
        "        d[word] += 1\n",
        "      else:\n",
        "        d[word] = 1\n",
        "\n",
        "  return d\n",
        "\n",
        "lst = ['map cat rat',\n",
        "       'cat rat mat',\n",
        "       'sat pat cat'\n",
        "]\n",
        "bow(lst)"
      ],
      "metadata": {
        "id": "N2l1_AWULT-z",
        "colab": {
          "base_uri": "https://localhost:8080/"
        },
        "outputId": "0481b105-27a7-412b-d5f9-edba9fa9f73c"
      },
      "execution_count": 1,
      "outputs": [
        {
          "output_type": "execute_result",
          "data": {
            "text/plain": [
              "{'map': 1, 'cat': 3, 'rat': 2, 'mat': 1, 'sat': 1, 'pat': 1}"
            ]
          },
          "metadata": {},
          "execution_count": 1
        }
      ]
    },
    {
      "cell_type": "code",
      "source": [],
      "metadata": {
        "id": "1dX49DG1zbvx"
      },
      "execution_count": null,
      "outputs": []
    },
    {
      "cell_type": "markdown",
      "source": [
        "###`Problem 11:` Write a Python program to add three given lists using Python map and lambda."
      ],
      "metadata": {
        "id": "dHTRKb-DqMLw"
      }
    },
    {
      "cell_type": "code",
      "source": [
        "# Write code here\n",
        "L1 = [1,2,3]\n",
        "L2 = [4,5,6]\n",
        "L3 = [7,8,9]\n",
        "\n",
        "# Expected output: [12, 15, 18]\n",
        "list(map(lambda x,y,z: x+y+z, L1,L2,L3))"
      ],
      "metadata": {
        "id": "NfJdzyNZqNW-",
        "colab": {
          "base_uri": "https://localhost:8080/"
        },
        "outputId": "63ea1daa-842c-471e-f007-33686afc9e37"
      },
      "execution_count": 7,
      "outputs": [
        {
          "output_type": "execute_result",
          "data": {
            "text/plain": [
              "[12, 15, 18]"
            ]
          },
          "metadata": {},
          "execution_count": 7
        }
      ]
    },
    {
      "cell_type": "code",
      "source": [],
      "metadata": {
        "id": "dX3AWMW6z1o0"
      },
      "execution_count": null,
      "outputs": []
    },
    {
      "cell_type": "markdown",
      "source": [
        "###`Problem-12:`Write a Python program to create a list containing the power of said number in bases raised to the corresponding number in the index using Python map.\n",
        "`Input:`\n",
        "```\n",
        "list1 = [1,2,3,4,5,6]\n",
        "```\n",
        "`Output:`\n",
        "```\n",
        "[1,2,9,64,625,-]\n",
        "```\n"
      ],
      "metadata": {
        "id": "MgHP7mbUqO8l"
      }
    },
    {
      "cell_type": "code",
      "source": [
        "# Write code here\n",
        "lst = [1,2,3,4,5]\n",
        "new = []\n",
        "\n",
        "for i in range(len(lst)):\n",
        "  new.append(lst[i] ** i)\n",
        "\n",
        "new"
      ],
      "metadata": {
        "id": "gG3Dc6N3qbvN",
        "colab": {
          "base_uri": "https://localhost:8080/"
        },
        "outputId": "c6e39f5f-cd1e-4ca1-aa97-15205bbdd89f"
      },
      "execution_count": 5,
      "outputs": [
        {
          "output_type": "execute_result",
          "data": {
            "text/plain": [
              "[1, 2, 9, 64, 625]"
            ]
          },
          "metadata": {},
          "execution_count": 5
        }
      ]
    },
    {
      "cell_type": "code",
      "source": [
        "lst = [1,2,3,4,5]\n",
        "list(map(lambda x,y: x**y, lst, range(len(lst))))"
      ],
      "metadata": {
        "id": "H34e8aiK5A8P",
        "outputId": "8ead52fc-fce7-4b07-fdae-a3c14f068b23",
        "colab": {
          "base_uri": "https://localhost:8080/"
        }
      },
      "execution_count": 9,
      "outputs": [
        {
          "output_type": "execute_result",
          "data": {
            "text/plain": [
              "[1, 2, 9, 64, 625]"
            ]
          },
          "metadata": {},
          "execution_count": 9
        }
      ]
    },
    {
      "cell_type": "code",
      "source": [],
      "metadata": {
        "id": "fjOxGvE86NeP"
      },
      "execution_count": null,
      "outputs": []
    },
    {
      "cell_type": "markdown",
      "source": [
        "###`Problem-13` Using filter() and list() functions and .lower() method filter all the vowels in a given string.\n",
        "\n"
      ],
      "metadata": {
        "id": "G26SYq6vqdLN"
      }
    },
    {
      "cell_type": "code",
      "source": [
        "# Write code here\n",
        "string = \"Mitochondria is the powerhouse of the cell\"\n",
        "list(filter(lambda x: True if x in \"aeiou\" else False, string))"
      ],
      "metadata": {
        "id": "zurga3DIqmEx",
        "colab": {
          "base_uri": "https://localhost:8080/"
        },
        "outputId": "3ffcabe9-79b2-499e-cdec-186a644e1afc"
      },
      "execution_count": 12,
      "outputs": [
        {
          "output_type": "execute_result",
          "data": {
            "text/plain": [
              "['i', 'o', 'o', 'i', 'a', 'i', 'e', 'o', 'e', 'o', 'u', 'e', 'o', 'e', 'e']"
            ]
          },
          "metadata": {},
          "execution_count": 12
        }
      ]
    },
    {
      "cell_type": "code",
      "source": [],
      "metadata": {
        "id": "XZjKmhz75f54"
      },
      "execution_count": null,
      "outputs": []
    },
    {
      "cell_type": "markdown",
      "source": [
        "`Problem-14`: Use reduce to convert a 2D list to 1D"
      ],
      "metadata": {
        "id": "uQrsunZSqoYu"
      }
    },
    {
      "cell_type": "code",
      "source": [
        "# Write code here\n",
        "from functools import reduce\n",
        "matrix = [\n",
        "    [1,2,3],\n",
        "    [4,5,6],\n",
        "    [7,8,9]\n",
        "]\n",
        "\n",
        "list(reduce(lambda x,y : x+y, matrix))"
      ],
      "metadata": {
        "id": "E1YUwnfgqnka",
        "colab": {
          "base_uri": "https://localhost:8080/"
        },
        "outputId": "a7cdc6ea-a293-45e4-dc3a-029ab51d339b"
      },
      "execution_count": 13,
      "outputs": [
        {
          "output_type": "execute_result",
          "data": {
            "text/plain": [
              "[1, 2, 3, 4, 5, 6, 7, 8, 9]"
            ]
          },
          "metadata": {},
          "execution_count": 13
        }
      ]
    },
    {
      "cell_type": "code",
      "source": [],
      "metadata": {
        "id": "e8TScXbX6gnn"
      },
      "execution_count": null,
      "outputs": []
    },
    {
      "cell_type": "markdown",
      "source": [
        "`Problem 15`- A dictionary contains following information about 5 employees:\n",
        "- First name\n",
        "- Last name\n",
        "- Age\n",
        "- Grade(Skilled,Semi-skilled,Highly skilled)<br>\n",
        "Write a program using map/filter/reduce to a list of employees(first name + last name) who are highly skilled"
      ],
      "metadata": {
        "id": "8-DLQEawt-_t"
      }
    },
    {
      "cell_type": "code",
      "source": [
        "# Write code here\n",
        "employees = [\n",
        "    {\n",
        "        'fname':'Nitish',\n",
        "        'lname':'Singh',\n",
        "        'age' : 33,\n",
        "        'grade':'skilled'\n",
        "    },\n",
        "    {\n",
        "        'fname':'Ankit',\n",
        "        'lname':'Verma',\n",
        "        'age' : 34,\n",
        "        'grade':'semi-skilled'\n",
        "    },\n",
        "    {\n",
        "        'fname':'Neha',\n",
        "        'lname':'Singh',\n",
        "        'age' : 35,\n",
        "        'grade':'highly-skilled'\n",
        "    },\n",
        "    {\n",
        "        'fname':'Anurag',\n",
        "        'lname':'Kumar',\n",
        "        'age' : 30,\n",
        "        'grade':'skilled'\n",
        "    },\n",
        "    {\n",
        "        'fname':'Abhinav',\n",
        "        'lname':'Sharma',\n",
        "        'age' : 37,\n",
        "        'grade':'highly-skilled'\n",
        "    }\n",
        "\n",
        "]"
      ],
      "metadata": {
        "id": "OLvptttLs6OU"
      },
      "execution_count": 14,
      "outputs": []
    },
    {
      "cell_type": "code",
      "source": [
        "list(map(lambda x: x['fname'] + \" \" + x['lname'], list(filter(lambda x: True if x['grade'] == 'highly-skilled' else False, employees))))"
      ],
      "metadata": {
        "id": "fEvkiBz374wg",
        "outputId": "d5a0ab5d-530c-42b8-fdd7-b33236253a3a",
        "colab": {
          "base_uri": "https://localhost:8080/"
        }
      },
      "execution_count": 16,
      "outputs": [
        {
          "output_type": "execute_result",
          "data": {
            "text/plain": [
              "['Neha Singh', 'Abhinav Sharma']"
            ]
          },
          "metadata": {},
          "execution_count": 16
        }
      ]
    },
    {
      "cell_type": "code",
      "source": [],
      "metadata": {
        "id": "ldMjGfkgAMr9"
      },
      "execution_count": 16,
      "outputs": []
    }
  ]
}