{
  "nbformat": 4,
  "nbformat_minor": 0,
  "metadata": {
    "colab": {
      "provenance": []
    },
    "kernelspec": {
      "name": "python3",
      "display_name": "Python 3"
    },
    "language_info": {
      "name": "python"
    }
  },
  "cells": [
    {
      "cell_type": "code",
      "execution_count": 1,
      "metadata": {
        "id": "zxrbXftDYalU"
      },
      "outputs": [],
      "source": [
        "import pandas as pd"
      ]
    },
    {
      "cell_type": "markdown",
      "source": [
        "###`Q-1:` Write a program to create an empty series."
      ],
      "metadata": {
        "id": "MetYTZJpYfdz"
      }
    },
    {
      "cell_type": "code",
      "source": [
        "pd.Series(dtype='object')"
      ],
      "metadata": {
        "id": "KUcgT935YgC5",
        "outputId": "8b987339-5e8c-4802-dc25-089603f0ccab",
        "colab": {
          "base_uri": "https://localhost:8080/"
        }
      },
      "execution_count": 3,
      "outputs": [
        {
          "output_type": "execute_result",
          "data": {
            "text/plain": [
              "Series([], dtype: object)"
            ]
          },
          "metadata": {},
          "execution_count": 3
        }
      ]
    },
    {
      "cell_type": "markdown",
      "source": [
        "###`Q-2:` Write a Pandas program to add, subtract, multiple and divide two Pandas Series."
      ],
      "metadata": {
        "id": "jw5ybzU6YhOo"
      }
    },
    {
      "cell_type": "code",
      "source": [
        "def series_operation(s1, s2, operation):\n",
        "  '''This functions takes in 2 pandas series and adds them , subtracts them or divides them based on the operation specified while calling the function'''\n",
        "  available_operations = ['add', 'subtract', 'divide']\n",
        "  if operation in available_operations:\n",
        "    if operation =='add':\n",
        "      return s1+s2\n",
        "    if operation =='subtract':\n",
        "      return s1-s2\n",
        "    if operation =='divide':\n",
        "      return s1/s2\n",
        "  else:\n",
        "    return \"Choose one of these operations: 'add', 'subtract', 'divide'\"\n",
        "\n",
        "s1 = pd.Series([4,5,6])\n",
        "s2 = pd.Series([1,2,3])\n",
        "series_operation(s1,s2, 'loss')"
      ],
      "metadata": {
        "id": "EF3GgVFjYjwG",
        "outputId": "617ced64-ed7d-439b-e277-684272888d37",
        "colab": {
          "base_uri": "https://localhost:8080/",
          "height": 36
        }
      },
      "execution_count": 10,
      "outputs": [
        {
          "output_type": "execute_result",
          "data": {
            "text/plain": [
              "\"Choose one of these operations: 'add', 'subtract', 'divide'\""
            ],
            "application/vnd.google.colaboratory.intrinsic+json": {
              "type": "string"
            }
          },
          "metadata": {},
          "execution_count": 10
        }
      ]
    },
    {
      "cell_type": "markdown",
      "source": [
        "###`Q-3` Write a Pandas program to compare the elements of the two Pandas Series.\n",
        "Sample Series: [2, 4, 6, 8, 10], [1, 3, 5, 7, 10]\n",
        "\n"
      ],
      "metadata": {
        "id": "TZDp25jeYlB6"
      }
    },
    {
      "cell_type": "code",
      "source": [
        "s1 =  pd.Series([2, 4, 6, 8, 10])\n",
        "s2 =  pd.Series([1, 3, 5, 7, 10])\n",
        "s1>s2"
      ],
      "metadata": {
        "id": "gFNil8ruYp1y",
        "outputId": "99931239-b3a8-499c-d89e-509abc4cb9b6",
        "colab": {
          "base_uri": "https://localhost:8080/"
        }
      },
      "execution_count": 16,
      "outputs": [
        {
          "output_type": "execute_result",
          "data": {
            "text/plain": [
              "0     True\n",
              "1     True\n",
              "2     True\n",
              "3     True\n",
              "4    False\n",
              "dtype: bool"
            ]
          },
          "metadata": {},
          "execution_count": 16
        }
      ]
    },
    {
      "cell_type": "markdown",
      "source": [
        "###`Q-5.`Write a function to change the data type of given a column or a Series. Function takes series and data type as input, returns the converted series.\n",
        "```\n",
        "series = pd.Series([1,2,'Python', 2.0, True, 100])\n",
        "change to float type data\n",
        "```\n",
        "Note: Read about pd.to_numeric()"
      ],
      "metadata": {
        "id": "HlOBn_N6YrZz"
      }
    },
    {
      "cell_type": "code",
      "source": [
        "def change_to_float(s):\n",
        "  new = []\n",
        "  for i in s:\n",
        "    if str(i).isnumeric() or str(i) == True or str(i)== False:\n",
        "      new.append(i)\n",
        "\n",
        "  new = pd.Series(new)\n",
        "  return pd.to_numeric(new)\n",
        "\n",
        "s = pd.Series([1,2,'Python', 2.0, True, 100])\n",
        "change_to_float(s)"
      ],
      "metadata": {
        "id": "_SWQJCUJYwXm",
        "outputId": "b8d23a77-6e81-468b-96f0-a4f14b8bf428",
        "colab": {
          "base_uri": "https://localhost:8080/"
        }
      },
      "execution_count": 27,
      "outputs": [
        {
          "output_type": "execute_result",
          "data": {
            "text/plain": [
              "0      1\n",
              "1      2\n",
              "2    100\n",
              "dtype: int64"
            ]
          },
          "metadata": {},
          "execution_count": 27
        }
      ]
    },
    {
      "cell_type": "code",
      "source": [],
      "metadata": {
        "id": "NOxqvWhM0Hb5"
      },
      "execution_count": 27,
      "outputs": []
    },
    {
      "cell_type": "markdown",
      "source": [
        "Download data - https://drive.google.com/file/d/1LRhXwbEodeWXtzPhJCX0X9Lf_BECzvqb/view?usp=share_link\n",
        "All Batsman runs series in IPL 2008 to 2022.\n",
        "\n",
        "Below questions are based on this data."
      ],
      "metadata": {
        "id": "PGp3OqRIY0Va"
      }
    },
    {
      "cell_type": "markdown",
      "source": [
        "###`Q-6` Find top 10 most run getter from the series."
      ],
      "metadata": {
        "id": "TxFkp-L4Y23d"
      }
    },
    {
      "cell_type": "code",
      "source": [
        "runs = pd.read_csv('./batsman_runs_series.csv', index_col='batter').squeeze()\n",
        "runs"
      ],
      "metadata": {
        "id": "My55Nk6p1rXX",
        "outputId": "f7ac6c41-702f-4d3f-82a2-de06a1b9ca1b",
        "colab": {
          "base_uri": "https://localhost:8080/"
        }
      },
      "execution_count": 52,
      "outputs": [
        {
          "output_type": "execute_result",
          "data": {
            "text/plain": [
              "batter\n",
              "A Ashish Reddy     280\n",
              "A Badoni           161\n",
              "A Chandila           4\n",
              "A Chopra            53\n",
              "A Choudhary         25\n",
              "                  ... \n",
              "Yash Dayal           0\n",
              "Yashpal Singh       47\n",
              "Younis Khan          3\n",
              "Yuvraj Singh      2754\n",
              "Z Khan             117\n",
              "Name: batsman_run, Length: 605, dtype: int64"
            ]
          },
          "metadata": {},
          "execution_count": 52
        }
      ]
    },
    {
      "cell_type": "code",
      "source": [
        "runs.sort_values(ascending=False).head(10)"
      ],
      "metadata": {
        "id": "frVkM3ei0vFX",
        "outputId": "b1038d14-b224-44f9-8414-c49477a68535",
        "colab": {
          "base_uri": "https://localhost:8080/"
        }
      },
      "execution_count": 54,
      "outputs": [
        {
          "output_type": "execute_result",
          "data": {
            "text/plain": [
              "batter\n",
              "V Kohli           6634\n",
              "S Dhawan          6244\n",
              "DA Warner         5883\n",
              "RG Sharma         5881\n",
              "SK Raina          5536\n",
              "AB de Villiers    5181\n",
              "CH Gayle          4997\n",
              "MS Dhoni          4978\n",
              "RV Uthappa        4954\n",
              "KD Karthik        4377\n",
              "Name: batsman_run, dtype: int64"
            ]
          },
          "metadata": {},
          "execution_count": 54
        }
      ]
    },
    {
      "cell_type": "code",
      "source": [],
      "metadata": {
        "id": "8KwPIqVv0vSK"
      },
      "execution_count": null,
      "outputs": []
    },
    {
      "cell_type": "markdown",
      "source": [
        "###`Q-7` No of players having runs above 3000"
      ],
      "metadata": {
        "id": "GzlCFBM_Y83g"
      }
    },
    {
      "cell_type": "code",
      "source": [
        "runs[runs>3000]"
      ],
      "metadata": {
        "id": "JdNchHRWY1B-",
        "outputId": "60d45bc2-bac8-41e6-8bf9-5e34cfa711f4",
        "colab": {
          "base_uri": "https://localhost:8080/"
        }
      },
      "execution_count": 56,
      "outputs": [
        {
          "output_type": "execute_result",
          "data": {
            "text/plain": [
              "batter\n",
              "AB de Villiers    5181\n",
              "AM Rahane         4074\n",
              "AT Rayudu         4190\n",
              "CH Gayle          4997\n",
              "DA Warner         5883\n",
              "F du Plessis      3403\n",
              "G Gambhir         4217\n",
              "KA Pollard        3437\n",
              "KD Karthik        4377\n",
              "KL Rahul          3895\n",
              "MK Pandey         3657\n",
              "MS Dhoni          4978\n",
              "RG Sharma         5881\n",
              "RV Uthappa        4954\n",
              "S Dhawan          6244\n",
              "SK Raina          5536\n",
              "SR Watson         3880\n",
              "SV Samson         3526\n",
              "V Kohli           6634\n",
              "YK Pathan         3222\n",
              "Name: batsman_run, dtype: int64"
            ]
          },
          "metadata": {},
          "execution_count": 56
        }
      ]
    },
    {
      "cell_type": "markdown",
      "source": [
        "###`Q-8` No of players having runs above mean value?"
      ],
      "metadata": {
        "id": "pMBEoCL1Y-vh"
      }
    },
    {
      "cell_type": "code",
      "source": [
        "runs[runs>runs.mean()].count()"
      ],
      "metadata": {
        "id": "LgtViVFZZBIu",
        "outputId": "6626dab0-4412-4879-b131-e500edd1023f",
        "colab": {
          "base_uri": "https://localhost:8080/"
        }
      },
      "execution_count": 58,
      "outputs": [
        {
          "output_type": "execute_result",
          "data": {
            "text/plain": [
              "128"
            ]
          },
          "metadata": {},
          "execution_count": 58
        }
      ]
    },
    {
      "cell_type": "code",
      "source": [],
      "metadata": {
        "id": "w4ETkPSU1mau"
      },
      "execution_count": null,
      "outputs": []
    },
    {
      "cell_type": "markdown",
      "source": [
        "Download data - https://drive.google.com/file/d/1QZuZ5bypUInfVvarHACLAi8tXXHvb8xd/view?usp=share_link\n",
        "\n",
        "file name - items.csv\n",
        "\n"
      ],
      "metadata": {
        "id": "OAB1CgdgZEqE"
      }
    },
    {
      "cell_type": "markdown",
      "source": [
        "###`Q-9`\n",
        "    i. Read `items.csv` making `item_name` as index.\n",
        "    ii. Show no of nan values\n",
        "    ii. Item price is given in $, so convert it to rupees without currency symbol.\n",
        "    iii. Make data type of newly made series as float.\n",
        "    iv. Fill nan with mean of the series\n",
        "\n",
        "\n",
        "How csv file looks\n",
        "\n",
        "```\n",
        "item_name\titem_price\n",
        "Chips and Fresh Tomato Salsa\t$2.39\n",
        "Izze\t$3.39\n",
        "Nantucket Nectar\t$3.39\n",
        "Chips and Tomatillo-Green Chili Salsa\t$2.39\n",
        "Chicken Bowl\t$16.98\n",
        "\n",
        "```"
      ],
      "metadata": {
        "id": "1UTQQImxZGLu"
      }
    },
    {
      "cell_type": "code",
      "source": [
        "items = pd.read_csv('./items (1).csv', index_col='item_name').squeeze()\n",
        "items.head()"
      ],
      "metadata": {
        "id": "1xaWkoMJZFNK",
        "outputId": "79f3cd6f-be9d-4e9d-df14-b56269c890c8",
        "colab": {
          "base_uri": "https://localhost:8080/"
        }
      },
      "execution_count": 60,
      "outputs": [
        {
          "output_type": "execute_result",
          "data": {
            "text/plain": [
              "item_name\n",
              "Chips and Fresh Tomato Salsa              $2.39 \n",
              "Izze                                      $3.39 \n",
              "Nantucket Nectar                          $3.39 \n",
              "Chips and Tomatillo-Green Chili Salsa     $2.39 \n",
              "Chicken Bowl                             $16.98 \n",
              "Name: item_price, dtype: object"
            ]
          },
          "metadata": {},
          "execution_count": 60
        }
      ]
    },
    {
      "cell_type": "code",
      "source": [
        "# number of nan values\n",
        "items.isna().sum()"
      ],
      "metadata": {
        "id": "dS-gjVsX3543",
        "outputId": "79d63dfb-291d-4320-e9e1-65b8249da729",
        "colab": {
          "base_uri": "https://localhost:8080/"
        }
      },
      "execution_count": 61,
      "outputs": [
        {
          "output_type": "execute_result",
          "data": {
            "text/plain": [
              "50"
            ]
          },
          "metadata": {},
          "execution_count": 61
        }
      ]
    },
    {
      "cell_type": "code",
      "source": [
        "def convert_to_rupee(num):\n",
        "  '''This function takes in price in USD and converts it to INR'''\n",
        "  return num*82\n",
        "\n",
        "items = items.str.replace('$','', regex=True).astype('float').apply(convert_to_rupee)"
      ],
      "metadata": {
        "id": "VlDdX8ZZ359r"
      },
      "execution_count": 66,
      "outputs": []
    },
    {
      "cell_type": "code",
      "source": [
        "items = items.fillna(items.mean())"
      ],
      "metadata": {
        "id": "Fvgc9eJf3-BX"
      },
      "execution_count": 69,
      "outputs": []
    },
    {
      "cell_type": "code",
      "source": [
        "# checking if null values are filled\n",
        "items.isna().sum()"
      ],
      "metadata": {
        "id": "g5tIHUF_36BQ",
        "outputId": "f40970ae-e768-4e85-be82-279d2aa7626a",
        "colab": {
          "base_uri": "https://localhost:8080/"
        }
      },
      "execution_count": 70,
      "outputs": [
        {
          "output_type": "execute_result",
          "data": {
            "text/plain": [
              "0"
            ]
          },
          "metadata": {},
          "execution_count": 70
        }
      ]
    },
    {
      "cell_type": "code",
      "source": [],
      "metadata": {
        "id": "jX8nWrj34lIw"
      },
      "execution_count": null,
      "outputs": []
    },
    {
      "cell_type": "markdown",
      "source": [
        "###`Q-10`:\n",
        "    i. Find mean price\n",
        "    ii. Find 30th and 6th percentile value\n",
        "    iii. Plot Histogram on price with bin size 50\n",
        "    iv. No of items price lies between [1000 to 2000]\n",
        "\n"
      ],
      "metadata": {
        "id": "UHc_4e9cZK8r"
      }
    },
    {
      "cell_type": "code",
      "source": [
        "# mean price\n",
        "items.mean().round(2)"
      ],
      "metadata": {
        "id": "Eh3xX9FpZNmE",
        "outputId": "032e68a2-a634-4ece-b62d-2d413b52a59d",
        "colab": {
          "base_uri": "https://localhost:8080/"
        }
      },
      "execution_count": 73,
      "outputs": [
        {
          "output_type": "execute_result",
          "data": {
            "text/plain": [
              "611.97"
            ]
          },
          "metadata": {},
          "execution_count": 73
        }
      ]
    },
    {
      "cell_type": "code",
      "source": [
        "items.quantile([.3,.5])"
      ],
      "metadata": {
        "id": "3XDeS8UE4u9A",
        "outputId": "efc162af-cc21-400f-e2b7-4406a1778f0a",
        "colab": {
          "base_uri": "https://localhost:8080/"
        }
      },
      "execution_count": 76,
      "outputs": [
        {
          "output_type": "execute_result",
          "data": {
            "text/plain": [
              "0.3    364.9\n",
              "0.5    717.5\n",
              "Name: item_price, dtype: float64"
            ]
          },
          "metadata": {},
          "execution_count": 76
        }
      ]
    },
    {
      "cell_type": "code",
      "source": [
        "items.plot(kind='hist', bins=50);"
      ],
      "metadata": {
        "id": "VTjmn3IG6jcb",
        "outputId": "5bfe7bb2-e94d-4c7f-967d-32cba788e104",
        "colab": {
          "base_uri": "https://localhost:8080/",
          "height": 430
        }
      },
      "execution_count": 91,
      "outputs": [
        {
          "output_type": "display_data",
          "data": {
            "text/plain": [
              "<Figure size 640x480 with 1 Axes>"
            ],
            "image/png": "[encoded data removed]"
          },
          "metadata": {}
        }
      ]
    }
  ]
}