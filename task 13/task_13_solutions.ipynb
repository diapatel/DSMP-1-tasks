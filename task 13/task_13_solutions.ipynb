{
  "cells": [
    {
      "cell_type": "code",
      "execution_count": null,
      "metadata": {
        "id": "-J4F1ysN4mLk"
      },
      "outputs": [],
      "source": [
        "import numpy as np"
      ]
    },
    {
      "cell_type": "markdown",
      "metadata": {
        "id": "a_K8IH-C6HDK"
      },
      "source": [
        "### `Q-1` Create a null vector of size 10 but the fifth value which is 1.\n",
        "\n"
      ]
    },
    {
      "cell_type": "code",
      "execution_count": null,
      "metadata": {
        "id": "sTF03KsZ6QUI"
      },
      "outputs": [],
      "source": [
        "#Code here\n",
        "\n",
        "# Filling the numpy array with NaN values\n",
        "a = np.nan * np.empty(10)\n",
        "a[4] = 1\n",
        "a"
      ]
    },
    {
      "cell_type": "markdown",
      "metadata": {
        "id": "TEiG25rS6S1i"
      },
      "source": [
        "### `Q-2` Ask user to input two numbers a, b. Write a program to generate a random array of shape (a, b) and print the array and avg of the array."
      ]
    },
    {
      "cell_type": "code",
      "execution_count": null,
      "metadata": {
        "id": "ihwn4oOH6Vh7"
      },
      "outputs": [],
      "source": [
        "#Code here\n",
        "a,b = map(int, input(\"Enter two numbers: \").split())\n",
        "x = np.random.random((a,b))\n",
        "print(x)\n",
        "print(x.mean())"
      ]
    },
    {
      "cell_type": "markdown",
      "metadata": {
        "id": "2iEeybS06ZSq"
      },
      "source": [
        "### `Q-3`Write a function to create a 2d array with 1 on the border and 0 inside. Take 2-D array shape as (a,b) as parameter to function.\n",
        "\n",
        "Eg.-\n",
        "```\n",
        "[[1,1,1,1],\n",
        "[1,0,0,1],\n",
        "[1,0,0,1],\n",
        "[1,1,1,1]]\n",
        "```"
      ]
    },
    {
      "cell_type": "code",
      "execution_count": null,
      "metadata": {
        "id": "gEKndkDU6ZSs"
      },
      "outputs": [],
      "source": [
        "#Code here\n",
        "def borderArray(a,b):\n",
        "    x = np.ones((a,b))\n",
        "    x[1:-1, 1:-1] = 0    # Except the border, changing all other elements to 0\n",
        "    return x\n",
        "borderArray(4,5)"
      ]
    },
    {
      "cell_type": "code",
      "source": [],
      "metadata": {
        "id": "inrPCPJ5IlkM"
      },
      "execution_count": null,
      "outputs": []
    },
    {
      "cell_type": "markdown",
      "metadata": {
        "id": "QRJicQ8j6ZlE"
      },
      "source": [
        "### `Q-4` Create a vector of size 10 with values ranging from 0 to 1, both excluded.\n"
      ]
    },
    {
      "cell_type": "code",
      "execution_count": null,
      "metadata": {
        "id": "eC4XLhDq6ZlF"
      },
      "outputs": [],
      "source": [
        "#Code here\n",
        "np.linspace(0, 1, 12)[1:-1]"
      ]
    },
    {
      "cell_type": "code",
      "source": [],
      "metadata": {
        "id": "K0Ad_6j0ImRM"
      },
      "execution_count": null,
      "outputs": []
    },
    {
      "cell_type": "markdown",
      "metadata": {
        "id": "vb4jK4yQ6Zs2"
      },
      "source": [
        "### `Q-5` Can you create a identity mattrix of shape (3,4). If yes write code for it."
      ]
    },
    {
      "cell_type": "code",
      "execution_count": null,
      "metadata": {
        "id": "DTV_AbMS6Zs4"
      },
      "outputs": [],
      "source": [
        "#Code here\n",
        "# Identity matricx is a square mattrix, means no of rows and columns will always be same.\n",
        "# Here shape given 3,4 so identuty matrix not possible.\n",
        "\n",
        "#Identy matrix of size 3-- 3X3\n",
        "np.eye(3)\n",
        "\n",
        "#Identy matrix of size 4-- 4X4\n",
        "np.identity(4)\n",
        "\n",
        "# eye and identity are same."
      ]
    },
    {
      "cell_type": "code",
      "source": [],
      "metadata": {
        "id": "w1g32nbPInTV"
      },
      "execution_count": null,
      "outputs": []
    },
    {
      "cell_type": "markdown",
      "metadata": {
        "id": "QtjAFm5PEntK"
      },
      "source": [
        "### `Q-6:` Create a 5x5 matrix with row values ranging from 0 to 4."
      ]
    },
    {
      "cell_type": "code",
      "execution_count": null,
      "metadata": {
        "id": "z2WGxRjvEuRS"
      },
      "outputs": [],
      "source": [
        "#Code here\n",
        "z = np.zeros((5,5))\n",
        "z+= np.arange(5)\n",
        "z"
      ]
    },
    {
      "cell_type": "code",
      "source": [],
      "metadata": {
        "id": "nDt5JqoYIpPl"
      },
      "execution_count": null,
      "outputs": []
    },
    {
      "cell_type": "markdown",
      "metadata": {
        "id": "KPpvxKjVHnyx"
      },
      "source": [
        "### `Q-7:`  Consider a random integer (in range 1 to 100) vector with shape `(10,2)` representing coordinates, and coordinates of a point as array is given. Create an array of distance of each point in the random vectros from the given point. Distance array should be interger type.\n",
        "\n",
        "```\n",
        "point = np.array([2,3])\n",
        "```\n"
      ]
    },
    {
      "cell_type": "code",
      "execution_count": null,
      "metadata": {
        "id": "X7KGnWLNIM6f"
      },
      "outputs": [],
      "source": [
        "#code here\n",
        "a = np.random.randint(1, 100, (10, 2))\n",
        "p = np.array([2,3])\n",
        "np.sqrt(np.sum((a-p)**2, axis=1)).astype(int)"
      ]
    },
    {
      "cell_type": "code",
      "source": [],
      "metadata": {
        "id": "sZITpap1Ip5k"
      },
      "execution_count": null,
      "outputs": []
    },
    {
      "cell_type": "markdown",
      "metadata": {
        "id": "tajOFJlCDwTr"
      },
      "source": [
        "### `Q-8:` Consider a (6,7,8) shape array, what is the index (x,y,z) of the 100th element?"
      ]
    },
    {
      "cell_type": "code",
      "execution_count": null,
      "metadata": {
        "id": "qH4oxvs0D3Ra"
      },
      "outputs": [],
      "source": [
        "#Code here\n",
        "np.unravel_index(100, (6,7,8))"
      ]
    },
    {
      "cell_type": "code",
      "source": [],
      "metadata": {
        "id": "rQFy065AIqSm"
      },
      "execution_count": null,
      "outputs": []
    },
    {
      "cell_type": "markdown",
      "metadata": {
        "id": "9LxBAbT2Pw33"
      },
      "source": [
        "### `Q-9:` Arrays\n",
        "\n",
        "You are given a space separated list of numbers. Your task is to print a reversed NumPy array with the element type float.\n",
        "\n"
      ]
    },
    {
      "cell_type": "markdown",
      "metadata": {
        "id": "JJpqVms2Nq7L"
      },
      "source": [
        "**Input Format:**\n",
        "\n",
        "A single line of input containing space separated numbers.\n",
        "\n",
        "**Output Format:**\n",
        "\n",
        "Print the reverse NumPy array with type float.\n",
        "\n",
        "**Example 1:**\n",
        "\n",
        "Input:\n",
        "\n",
        "```bash\n",
        "1 2 3 4 -8 -10\n",
        "```\n",
        "\n",
        "Output:\n",
        "\n",
        "```bash\n",
        "[-10.  -8.   4.   3.   2.   1.]\n",
        "```"
      ]
    },
    {
      "cell_type": "code",
      "execution_count": null,
      "metadata": {
        "id": "7iQyg6ChNl3j"
      },
      "outputs": [],
      "source": [
        "#Code here\n",
        "a = input().strip().split()\n",
        "np.array(a[::-1], dtype=np.float32)"
      ]
    },
    {
      "cell_type": "code",
      "source": [],
      "metadata": {
        "id": "vqnSN7f6IrKc"
      },
      "execution_count": null,
      "outputs": []
    },
    {
      "cell_type": "markdown",
      "metadata": {
        "id": "TPxD7jM8Sjz9"
      },
      "source": [
        "### `Q-10:` Elements count\n",
        "\n",
        "Count the number of elements of a numpy array.\n",
        "\n"
      ]
    },
    {
      "cell_type": "markdown",
      "metadata": {
        "id": "oHTiTz_jNkAU"
      },
      "source": [
        "**Example 1:**\n",
        "\n",
        "Input:\n",
        "```bash\n",
        "np.array([])\n",
        "```\n",
        "\n",
        "Output:\n",
        "```bash\n",
        "elements_count :  0\n",
        "```\n",
        "\n",
        "**Example 2:**\n",
        "\n",
        "Input:\n",
        "```bash\n",
        "np.array([1, 2])\n",
        "```\n",
        "\n",
        "Output:\n",
        "```bash\n",
        "elements_count :  2\n",
        "```"
      ]
    },
    {
      "cell_type": "code",
      "execution_count": null,
      "metadata": {
        "id": "RG0H2I-TNeGN"
      },
      "outputs": [],
      "source": [
        "#Code here\n",
        "a = np.array([])\n",
        "a = np.array([1, 2])\n",
        "a = np.zeros((2,3))\n",
        "a.size"
      ]
    },
    {
      "cell_type": "code",
      "source": [],
      "metadata": {
        "id": "I6Y99QBwIsHY"
      },
      "execution_count": null,
      "outputs": []
    },
    {
      "cell_type": "markdown",
      "metadata": {
        "id": "pwgPz-3l5ic5"
      },
      "source": [
        "### `Q-11:` Softmax function\n",
        "\n",
        "Create a Python function to calculate the Softmax of the given numpy 1D array. The function only accepts the numpy 1D array, otherwise raise error.\n",
        "\n",
        "$$\\Large \\sigma(\\vec z)_i = \\frac{e^{z_i}}{\\sum_{j=i}^{K}{e^{z_j}}}$$\n",
        "\n",
        "https://en.wikipedia.org/wiki/Softmax_function\n",
        "\n"
      ]
    },
    {
      "cell_type": "markdown",
      "metadata": {
        "id": "eZ3WJt6UM1ul"
      },
      "source": [
        "**Example 1:**\n",
        "\n",
        "Input:\n",
        "```bash\n",
        "[86.03331084 37.7285648  48.64908087 87.16563062 38.40852563 37.20006318]\n",
        "```\n",
        "\n",
        "Output:\n",
        "```bash\n",
        "[2.43733249e-01, 2.56112115e-22, 1.41628284e-17, 7.56266751e-01,\n",
        "       5.05514197e-22, 1.50974911e-22]\n",
        "```\n",
        "\n",
        "**Example 2:**\n",
        "\n",
        "Input:\n",
        "```bash\n",
        "[33.17344305 45.61961654 82.05405781 80.9647098  68.82830233 91.52064278]\n",
        "```\n",
        "\n",
        "Output:\n",
        "```bash\n",
        "[4.57181035e-26, 1.16249923e-20, 7.73872596e-05, 2.60358426e-05,\n",
        "       1.39571531e-10, 9.99896577e-01]\n",
        "```"
      ]
    },
    {
      "cell_type": "code",
      "execution_count": null,
      "metadata": {
        "id": "VNzj05lkNaNi"
      },
      "outputs": [],
      "source": [
        "#Code here\n",
        "def softmax(arr):\n",
        "    if type(arr) != np.ndarray:\n",
        "        raise TypeError(\"Requires Numpy Array\")\n",
        "    elif arr.ndim > 1:\n",
        "        raise TypeError(\"Requires 1D Array\")\n",
        "    s = np.sum(np.exp(arr))\n",
        "    return np.exp(arr)/s\n",
        "softmax(np.array([86.03331084, 37.7285648,  48.64908087, 87.16563062, 38.40852563, 37.20006318]))"
      ]
    },
    {
      "cell_type": "code",
      "source": [],
      "metadata": {
        "id": "763pmhPGItJ_"
      },
      "execution_count": null,
      "outputs": []
    },
    {
      "cell_type": "markdown",
      "metadata": {
        "id": "k4JWSwWu_HXg"
      },
      "source": [
        "### `Q-12:` Vertical stack\n",
        "\n",
        "Write a python function that accepts infinite number of numpy arrays and do the vertical stack to them. Then return that new array as result. The function only accepts the numpy array, otherwise raise error.\n",
        "\n"
      ]
    },
    {
      "cell_type": "markdown",
      "metadata": {
        "id": "XhhV3mraNAWr"
      },
      "source": [
        "**Example 1:**\n",
        "\n",
        "Input:\n",
        "```bash\n",
        "a= [[0 1 2 3 4]\n",
        " [5 6 7 8 9]]\n",
        "\n",
        "b= [[1 1 1 1 1]\n",
        " [1 1 1 1 1]]\n",
        "```\n",
        "\n",
        "Output:\n",
        "\n",
        "```bash\n",
        "[[0 1 2 3 4]\n",
        " [5 6 7 8 9]\n",
        " [1 1 1 1 1]\n",
        " [1 1 1 1 1]]\n",
        "```\n",
        "\n",
        "**Example 2:**\n",
        "\n",
        "Input:\n",
        "```bash\n",
        "a= [[0 1 2 3 4]\n",
        " [5 6 7 8 9]]\n",
        "\n",
        "b= [[1 1 1 1 1]\n",
        " [1 1 1 1 1]]\n",
        "\n",
        "c= [[0.10117373 0.1677244  0.73764059 0.83166097 0.48985695]\n",
        " [0.44581567 0.13502419 0.55692335 0.16479622 0.61193593]]\n",
        "```\n",
        "\n",
        "Output:\n",
        "```bash\n",
        "[[0.         1.         2.         3.         4.        ]\n",
        " [5.         6.         7.         8.         9.        ]\n",
        " [1.         1.         1.         1.         1.        ]\n",
        " [1.         1.         1.         1.         1.        ]\n",
        " [0.10117373 0.1677244  0.73764059 0.83166097 0.48985695]\n",
        " [0.44581567 0.13502419 0.55692335 0.16479622 0.61193593]]\n",
        "```"
      ]
    },
    {
      "cell_type": "code",
      "execution_count": null,
      "metadata": {
        "id": "dhtnbSj6NP8z"
      },
      "outputs": [],
      "source": [
        "#Coder here\n",
        "def vertical_stack(*args):\n",
        "    for i in args:\n",
        "        if type(i) != np.ndarray:\n",
        "            raise TypeError(\"Requires Numpy Array\")\n",
        "    return np.vstack(args)\n",
        "\n",
        "a = np.arange(10).reshape(2, -1)\n",
        "print(\"a=\",a)\n",
        "b = np.repeat(1, 10).reshape(2, -1)\n",
        "print(\"b=\",b)\n",
        "print(vertical_stack(a,b))\n",
        "c = np.random.random((2,5))\n",
        "print(\"c=\", c)\n",
        "vertical_stack(a,b,c)"
      ]
    },
    {
      "cell_type": "code",
      "source": [],
      "metadata": {
        "id": "QbZZvJDUIuUA"
      },
      "execution_count": null,
      "outputs": []
    },
    {
      "cell_type": "markdown",
      "metadata": {
        "id": "3mk8T6CuC2DP"
      },
      "source": [
        "### `Q-13:` Dates\n",
        "\n",
        "Create a python function named **date_array** that accepts two dates as string format and returns a numpy array of dates between those 2 dates. The function only accept 2 strings, otherwise raise error. The date format should be like this only: `2022-12-6`. The end date should be included and for simplicity, choose dates from a same year.\n",
        "\n"
      ]
    },
    {
      "cell_type": "markdown",
      "metadata": {
        "id": "E3IgjnTTNFEk"
      },
      "source": [
        "**Example 1:**\n",
        "\n",
        "Input:\n",
        "```bash\n",
        "date_array(start = '2020-09-15', end = '2020-09-25')\n",
        "```\n",
        "\n",
        "Output:\n",
        "```bash\n",
        "['2020-09-15', '2020-09-16', '2020-09-17', '2020-09-18',\n",
        " '2020-09-19', '2020-09-20', '2020-09-21', '2020-09-22',\n",
        " '2020-09-23', '2020-09-24', '2020-09-25']\n",
        "```\n",
        "\n",
        "**Example 2:**\n",
        "\n",
        "Input:\n",
        "```bash\n",
        "date_array(start = '2022-12-01', end = '2022-12-06')\n",
        "```\n",
        "\n",
        "Output:\n",
        "```bash\n",
        "['2022-12-01', '2022-12-02', '2022-12-03', '2022-12-04', '2022-12-05', '2022-12-06']\n",
        "```\n",
        "\n",
        "**Example 3:**\n",
        "\n",
        "Input:\n",
        "```bash\n",
        "date_array(start = '2020-11-25', end = '2020-11-30')\n",
        "```\n",
        "\n",
        "Output:\n",
        "```bash\n",
        "['2020-11-25', '2020-11-26', '2020-11-27', '2020-11-28',\n",
        " '2020-11-29', '2020-11-30']\n",
        "```"
      ]
    },
    {
      "cell_type": "code",
      "execution_count": null,
      "metadata": {
        "id": "Yj5PBfQQNTnL"
      },
      "outputs": [],
      "source": [
        "#Code here\n",
        "\n",
        "def date_array(start: str, end: str):\n",
        "    if type(start) != str or type(end) != str:\n",
        "        raise TypeError\n",
        "\n",
        "    total_days_of_month = {\"01\": 31, \"02\": 28, \"03\": 31, \"04\":30, \"05\": 31, \"06\":30, \"07\":31, \"08\":31, \"09\":30, \"10\": 31, \"11\":30, \"12\":31}\n",
        "\n",
        "    end = end.split(\"-\")\n",
        "    end_last = int(end[-1]) + 1\n",
        "\n",
        "    # If the next day of end falls in the next month, account for that\n",
        "    if total_days_of_month[end[-2]] < end_last:\n",
        "        days_diff = end_last - total_days_of_month[end[-2]]\n",
        "        end[-1] = f'0{days_diff}' if days_diff< 10 else f'{days_diff}'\n",
        "        next_month = int(end[-2]) + 1\n",
        "        end[-2] = f'0{next_month}' if next_month< 10 else f'{next_month}'\n",
        "    else:\n",
        "        end[-1] = f'0{end_last}' if end_last < 10 else f'{end_last}'\n",
        "    end = \"-\".join(end)\n",
        "    return np.arange(start, end, dtype=\"datetime64[D]\")    # Use arange() to generate all dates between start and end\n",
        "date_array(start = '2020-11-25', end = '2020-11-30')"
      ]
    },
    {
      "cell_type": "code",
      "source": [],
      "metadata": {
        "id": "DslAV96SIv4I"
      },
      "execution_count": null,
      "outputs": []
    },
    {
      "cell_type": "markdown",
      "metadata": {
        "id": "bcEp0wTWQijK"
      },
      "source": [
        "### `Q-14:` Subtract the mean of each row from a matrix."
      ]
    },
    {
      "cell_type": "code",
      "execution_count": null,
      "metadata": {
        "id": "rpILVGcgQzMo"
      },
      "outputs": [],
      "source": [
        "#code here\n",
        "x = np.random.random((5,4))\n",
        "x - x.mean(axis = 1, keepdims = True)"
      ]
    },
    {
      "cell_type": "code",
      "source": [],
      "metadata": {
        "id": "-kAtQ9kSIwgg"
      },
      "execution_count": null,
      "outputs": []
    },
    {
      "cell_type": "markdown",
      "metadata": {
        "id": "A-dMVlPPSBTT"
      },
      "source": [
        "### `Q-15:` Swap column-1 of array with column-2 in the array."
      ]
    },
    {
      "cell_type": "code",
      "execution_count": null,
      "metadata": {
        "id": "3RtngM9-Q6S7"
      },
      "outputs": [],
      "source": [
        "#Code here\n",
        "a = np.arange(9).reshape(3,3)\n",
        "a[:, [0, 2, 1]]"
      ]
    },
    {
      "cell_type": "code",
      "execution_count": null,
      "metadata": {
        "id": "ueoMV_LlSnGU"
      },
      "outputs": [],
      "source": []
    },
    {
      "cell_type": "markdown",
      "metadata": {
        "id": "cB4VMexvS6Zi"
      },
      "source": [
        "### `Q-16:` Replace odd elements in arrays with -1."
      ]
    },
    {
      "cell_type": "code",
      "execution_count": null,
      "metadata": {
        "id": "Bt83nXEVS5O4"
      },
      "outputs": [],
      "source": [
        "#Code here\n",
        "a = np.arange(10)\n",
        "a[a%2 == 1] = -1\n",
        "a"
      ]
    },
    {
      "cell_type": "code",
      "execution_count": null,
      "metadata": {
        "id": "1ZlvMaXLVyoW"
      },
      "outputs": [],
      "source": []
    },
    {
      "cell_type": "markdown",
      "metadata": {
        "id": "kf_qvmBxWIT_"
      },
      "source": [
        "### `Q-17:` Given two arrays of same shape make an array of max out of two arrays. (Numpy way)\n",
        "```\n",
        "a=np.array([6,3,1,5,8])\n",
        "b=np.array([3,2,1,7,2])\n",
        "\n",
        "Result-> [6 3 1 7 8]\n",
        "```"
      ]
    },
    {
      "cell_type": "code",
      "execution_count": null,
      "metadata": {
        "id": "TB9ZvF-EZSfu"
      },
      "outputs": [],
      "source": [
        "#Code here\n",
        "a=np.array([6,3,1,5,8])\n",
        "b=np.array([3,2,1,7,2])\n",
        "\n",
        "a[b>a] = b[a<b]\n",
        "a"
      ]
    },
    {
      "cell_type": "code",
      "execution_count": null,
      "metadata": {
        "id": "D7ad-A6jZzCL"
      },
      "outputs": [],
      "source": []
    },
    {
      "cell_type": "markdown",
      "metadata": {
        "id": "iOQLUIeGc3zA"
      },
      "source": [
        "### `Q-18` Answer below asked questions on given array:\n",
        "1. Fetch Every alternate column of the array\n",
        "2. Normalise the given array\n",
        "\n",
        "https://en.wikipedia.org/wiki/Normalization_(statistics)\n",
        "\n",
        "There are different form of normalisation for this question use below formula.\n",
        "\n",
        "$$\\large X_{normalized} = \\frac{X - X_{min}}{X_{max} - X_{min}}$$\n",
        "\n",
        "```python\n",
        "arr1=np.random.randint(low=1, high=10000, size=40).reshape(8,5)\n",
        "```\n"
      ]
    },
    {
      "cell_type": "code",
      "execution_count": null,
      "metadata": {
        "id": "vjSm18k3d_1p"
      },
      "outputs": [],
      "source": [
        "# Given\n",
        "arr1=np.random.randint(low=1, high=10000, size=40).reshape(8,5)\n",
        "arr1"
      ]
    },
    {
      "cell_type": "code",
      "execution_count": null,
      "metadata": {
        "id": "d7u8DB47eBfQ"
      },
      "outputs": [],
      "source": [
        "#Code here\n",
        "#1\n",
        "arr1[:, ::2]"
      ]
    },
    {
      "cell_type": "code",
      "execution_count": null,
      "metadata": {
        "id": "3w5EQ1Emi6yT"
      },
      "outputs": [],
      "source": [
        "(arr1 - arr1.min())/(arr1.max() - arr1.min())"
      ]
    },
    {
      "cell_type": "code",
      "source": [],
      "metadata": {
        "id": "cH32LIS4Ix_w"
      },
      "execution_count": null,
      "outputs": []
    },
    {
      "cell_type": "markdown",
      "metadata": {
        "id": "jCzsVEKLgGNo"
      },
      "source": [
        "### `Q-19:` Write a function which will accept 2 arguments.\n",
        "First: A 1D numpy array arr\n",
        "\n",
        "Second: An integer n {Please make sure n<=len(arr)}\n",
        "\n",
        "Output: The output should be the nth largest item out of the array\n",
        "```\n",
        "# Example1 : arr=(12,34,40,7,1,0) and n=3, the output should be 12\n",
        "# Example2 : arr=(12,34,40,7,1,0) and n=1, the output should be 40\n",
        "```"
      ]
    },
    {
      "cell_type": "code",
      "execution_count": null,
      "metadata": {
        "id": "J4AzkDk7gXSG"
      },
      "outputs": [],
      "source": [
        "#Code here\n",
        "def nthmax(arr, n):\n",
        "    if n>len(arr):\n",
        "        raise IndexError(\"n is way out of limit\")\n",
        "    arr.sort()\n",
        "    return arr[-n]\n",
        "nthmax(np.array([12,34,40,7,1,0]),2)"
      ]
    },
    {
      "cell_type": "code",
      "source": [],
      "metadata": {
        "id": "cIm3QuL_Iy63"
      },
      "execution_count": null,
      "outputs": []
    },
    {
      "cell_type": "markdown",
      "metadata": {
        "id": "ja0xPCgjhBsg"
      },
      "source": [
        "### `Q-20:` Create the following pattern without hardcoding. Use only numpy functions and the below input array a.\n",
        "```\n",
        "# Input: a = np.array([1,2,3])\n",
        "# Output: array([1, 1, 1, 2, 2, 2, 3, 3, 3, 1, 2, 3, 1, 2, 3, 1, 2, 3])\n",
        "```"
      ]
    },
    {
      "cell_type": "code",
      "execution_count": null,
      "metadata": {
        "id": "CndS8TTNhG0F"
      },
      "outputs": [],
      "source": [
        "#code here\n",
        "a = np.array([1,2,3])\n",
        "np.hstack([np.repeat(a, 3), np.tile(a, 3)])"
      ]
    },
    {
      "cell_type": "code",
      "execution_count": null,
      "metadata": {
        "id": "ySxcVaCui6yV"
      },
      "outputs": [],
      "source": []
    }
  ],
  "metadata": {
    "colab": {
      "provenance": []
    },
    "kernelspec": {
      "display_name": "Python 3 (ipykernel)",
      "language": "python",
      "name": "python3"
    },
    "language_info": {
      "codemirror_mode": {
        "name": "ipython",
        "version": 3
      },
      "file_extension": ".py",
      "mimetype": "text/x-python",
      "name": "python",
      "nbconvert_exporter": "python",
      "pygments_lexer": "ipython3",
      "version": "3.9.13"
    }
  },
  "nbformat": 4,
  "nbformat_minor": 0
}