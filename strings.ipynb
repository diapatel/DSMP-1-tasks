{
  "nbformat": 4,
  "nbformat_minor": 0,
  "metadata": {
    "colab": {
      "provenance": []
    },
    "kernelspec": {
      "name": "python3",
      "display_name": "Python 3"
    },
    "language_info": {
      "name": "python"
    }
  },
  "cells": [
    {
      "cell_type": "markdown",
      "source": [
        "# Task : Session 1\n",
        "Solve these questions own your own and try to test yourself what you have learned in the session.\n",
        "\n",
        "Happy Learning!"
      ],
      "metadata": {
        "id": "A05OG15VqOPF"
      }
    },
    {
      "cell_type": "markdown",
      "source": [
        "### Q1 :- Print the given strings as per stated format.\n",
        "\n",
        "**Given strings**:\n",
        "```\n",
        "\"Data\" \"Science\" \"Mentorship\" \"Program\"\n",
        "\"By\" \"CampusX\"\n",
        "```\n",
        "**Output**:\n",
        "```\n",
        "Data-Science-Mentorship-Program-started-By-CampusX\n",
        "```\n",
        "\n",
        "Concept- [Seperator and End]"
      ],
      "metadata": {
        "id": "2doIXf8bqe9_"
      }
    },
    {
      "cell_type": "code",
      "source": [
        "print(\"Data\",\"Science\" ,\"Mentorship\", \"Program\" , \"By\", \"CampusX\", sep='-')"
      ],
      "metadata": {
        "id": "-em6d3KErDtp",
        "outputId": "f6db8bfb-129f-4519-fcfc-cb60619cf68f",
        "colab": {
          "base_uri": "https://localhost:8080/"
        }
      },
      "execution_count": 15,
      "outputs": [
        {
          "output_type": "stream",
          "name": "stdout",
          "text": [
            "Data-Science-Mentorship-Program-By-CampusX\n"
          ]
        }
      ]
    },
    {
      "cell_type": "code",
      "source": [],
      "metadata": {
        "id": "HsMJVlqbkfFP"
      },
      "execution_count": null,
      "outputs": []
    },
    {
      "cell_type": "markdown",
      "source": [
        "### Q2:- Write a program that will convert celsius value to fahrenheit."
      ],
      "metadata": {
        "id": "1KUpN7ZTrC3_"
      }
    },
    {
      "cell_type": "code",
      "source": [
        "temp_c = float(input('Enter temperature in celsius: '))\n",
        "\n",
        "temp_f = round(((5*temp_c)/9) +32,2)\n",
        "print(f\"{temp_c} degree celsisus in fahrenheit is {temp_f} fahrenheit\")"
      ],
      "metadata": {
        "id": "yxKYhYQiqWfj",
        "outputId": "d73dffc2-2d8b-4b67-de79-51ec1ded2931",
        "colab": {
          "base_uri": "https://localhost:8080/"
        }
      },
      "execution_count": 14,
      "outputs": [
        {
          "output_type": "stream",
          "name": "stdout",
          "text": [
            "Enter temperature in celsius: 1\n",
            "1.0 degree celsisus in fahrenheit is 32.56 fahrenheit\n"
          ]
        }
      ]
    },
    {
      "cell_type": "code",
      "source": [],
      "metadata": {
        "id": "qaSw8qrYj9wQ"
      },
      "execution_count": null,
      "outputs": []
    },
    {
      "cell_type": "markdown",
      "source": [
        "### Q3:- Take 2 numbers as input from the user.Write a program to swap the numbers without using any special python syntax."
      ],
      "metadata": {
        "id": "RLrOBBJurLB2"
      }
    },
    {
      "cell_type": "code",
      "source": [
        "a = int(input('Enter a number: '))\n",
        "b = int(input('Enter another number: '))\n",
        "\n",
        "print(f\"Before swapping : a={a}, b={b}\")\n",
        "\n",
        "temp = a\n",
        "a = b\n",
        "b = temp\n",
        "\n",
        "print(f\"After swapping : a={a} , b={b}\")"
      ],
      "metadata": {
        "id": "yPn7if0TrJ4F",
        "outputId": "40a7797d-e310-4ec0-aafe-d807552cee85",
        "colab": {
          "base_uri": "https://localhost:8080/"
        }
      },
      "execution_count": 10,
      "outputs": [
        {
          "output_type": "stream",
          "name": "stdout",
          "text": [
            "Enter a number: 2\n",
            "Enter another number: 3\n",
            "Before swapping : a=2, b=3\n",
            "After swapping : a=3 , b=2\n"
          ]
        }
      ]
    },
    {
      "cell_type": "code",
      "source": [],
      "metadata": {
        "id": "9DiosGYGjkg2"
      },
      "execution_count": null,
      "outputs": []
    },
    {
      "cell_type": "markdown",
      "source": [
        "### Q4:- Write a program to find the euclidean distance between two coordinates.Take both the coordinates from the user as input."
      ],
      "metadata": {
        "id": "waLCP1bjr7ML"
      }
    },
    {
      "cell_type": "code",
      "source": [
        "# Write your code here"
      ],
      "metadata": {
        "id": "Pl1Sv-xnrxnH"
      },
      "execution_count": null,
      "outputs": []
    },
    {
      "cell_type": "markdown",
      "source": [
        "### Q5:- Write a program to find the simple interest when the value of principle,rate of interest and time period is provided by the user.\n"
      ],
      "metadata": {
        "id": "VLrhg-FRsHjR"
      }
    },
    {
      "cell_type": "code",
      "source": [
        "principle = float(input('Enter principal amount: '))\n",
        "rate = float(input('Enter rate of interest: '))\n",
        "time = float(input('Enter time in years: '))\n",
        "\n",
        "si = (principle*rate*time)/100\n",
        "print(f'Simple interest is {si}')"
      ],
      "metadata": {
        "id": "s40DlReZsTmY"
      },
      "execution_count": null,
      "outputs": []
    },
    {
      "cell_type": "code",
      "source": [],
      "metadata": {
        "id": "-Qpnor3rjQBV"
      },
      "execution_count": null,
      "outputs": []
    },
    {
      "cell_type": "markdown",
      "source": [
        "### Q6:- Write a program that will tell the number of dogs and chicken are there when the user will provide the value of total heads and legs.\n",
        "\n",
        "For example:\n",
        "Input:\n",
        "heads -> 4\n",
        "legs -> 12\n",
        "<br>\n",
        "Output:\n",
        "dogs -> 2\n",
        "chicken -> 2\n",
        "\n",
        "\n",
        "\n"
      ],
      "metadata": {
        "id": "LMy0BTUktYKa"
      }
    },
    {
      "cell_type": "code",
      "source": [
        "import numpy as np\n",
        "\n",
        "heads = 4\n",
        "legs = 8\n",
        "\n",
        "x = [[1,1], [2,4]]\n",
        "y = [heads,legs]\n",
        "result = np.linalg.solve(x,y)\n",
        "print(f\"chickens: {result[0]} dogs:{result[1]}\")"
      ],
      "metadata": {
        "id": "XSBvJoA4tXaG",
        "outputId": "b729976a-37f7-4148-8023-38253308a93d",
        "colab": {
          "base_uri": "https://localhost:8080/"
        }
      },
      "execution_count": 31,
      "outputs": [
        {
          "output_type": "stream",
          "name": "stdout",
          "text": [
            "chickens: 4.0 dogs:-0.0\n"
          ]
        }
      ]
    },
    {
      "cell_type": "code",
      "source": [],
      "metadata": {
        "id": "foRIJNP5jNbP"
      },
      "execution_count": null,
      "outputs": []
    },
    {
      "cell_type": "markdown",
      "source": [
        "### Q7:- Write a program to find the sum of squares of first n natural numbers where n will be provided by the user."
      ],
      "metadata": {
        "id": "gJ7C5kZYt4BP"
      }
    },
    {
      "cell_type": "code",
      "source": [
        "n = int(input(\"Enter a natural number: \"))\n",
        "sum_ = 0\n",
        "\n",
        "for i in range(n+1):\n",
        "  sum_+= i**2\n",
        "print(f\"Sum of squares of first {n} natural numbers is {sum_}\")"
      ],
      "metadata": {
        "id": "_tHsmEHzt2nX",
        "outputId": "4f882998-cc52-4c24-84fe-b6b23e1c8697",
        "colab": {
          "base_uri": "https://localhost:8080/"
        }
      },
      "execution_count": 9,
      "outputs": [
        {
          "output_type": "stream",
          "name": "stdout",
          "text": [
            "Enter a natural number: 3\n",
            "Sum of squares of first 3 natural numbers is 14\n"
          ]
        }
      ]
    },
    {
      "cell_type": "code",
      "source": [],
      "metadata": {
        "id": "Si80GPpyi1Ka"
      },
      "execution_count": null,
      "outputs": []
    },
    {
      "cell_type": "markdown",
      "source": [
        "### Q8:- Given the first 2 terms of an Arithmetic Series.Find the Nth term of the series. Assume all inputs are provided by the user."
      ],
      "metadata": {
        "id": "FHrMM7g-yG1h"
      }
    },
    {
      "cell_type": "code",
      "source": [
        "a1 = int(input('Enter first number of the arithmetic series: '))\n",
        "a2 = int(input('Enter second number of the arithmetic series: '))\n",
        "n = int(input('Which term to find out? '))\n",
        "\n",
        "d = a2-a1\n",
        "an = a1 + (n-1)*d\n",
        "\n",
        "print(an)"
      ],
      "metadata": {
        "id": "go4_kmZmyVSx",
        "outputId": "4ddafd5f-beb6-4c4e-df98-5f9db60c17c4",
        "colab": {
          "base_uri": "https://localhost:8080/"
        }
      },
      "execution_count": 18,
      "outputs": [
        {
          "output_type": "stream",
          "name": "stdout",
          "text": [
            "Enter first number of the arithmetic series: 1\n",
            "Enter second number of the arithmetic series: 2\n",
            "Which term to find out? 4\n",
            "4\n"
          ]
        }
      ]
    },
    {
      "cell_type": "code",
      "source": [],
      "metadata": {
        "id": "NAnxj204iyfL"
      },
      "execution_count": null,
      "outputs": []
    },
    {
      "cell_type": "markdown",
      "source": [
        "### Q9:- Given 2 fractions, find the sum of those 2 fractions.Take the numerator and denominator values of the fractions from the user."
      ],
      "metadata": {
        "id": "QgyRX_es1oum"
      }
    },
    {
      "cell_type": "code",
      "source": [
        "n1 = int(input('Enter numerator of first fraction: '))\n",
        "d1 = int(input('Enter denominator of first fraction: '))\n",
        "n2 = int(input('Enter numerator of second fraction: '))\n",
        "d2 = int(input('Enter denominator of second fraction: '))\n",
        "\n",
        "sum = round(((n1*d2) + (n2*d1))/ (d1*d2),2)\n",
        "print(f\"sum of the 2 fractions {n1/d1} and {n2/d2} = {sum}\")"
      ],
      "metadata": {
        "id": "X05xqFS1yW16",
        "outputId": "c84130a4-3bd3-4bf4-d85d-d46d4374ee5a",
        "colab": {
          "base_uri": "https://localhost:8080/"
        }
      },
      "execution_count": 6,
      "outputs": [
        {
          "output_type": "stream",
          "name": "stdout",
          "text": [
            "Enter numerator of first fraction: 1\n",
            "Enter denominator of first fraction: 2\n",
            "Enter numerator of second fraction: 1\n",
            "Enter denominator of second fraction: 3\n",
            "0.8333333333333334\n"
          ]
        }
      ]
    },
    {
      "cell_type": "code",
      "source": [],
      "metadata": {
        "id": "C0OlmgaJh-fm"
      },
      "execution_count": null,
      "outputs": []
    },
    {
      "cell_type": "markdown",
      "source": [
        "### Q10:- Given the height, width and breadth of a milk tank, you have to find out how many glasses of milk can be obtained? Assume all the inputs are provided by the user.\n",
        "\n",
        "\n",
        "\n",
        "Input:<br>\n",
        "Dimensions of the milk tank<br>\n",
        "H = 20cm, L = 20cm, B = 20cm\n",
        "<br><br>\n",
        "Dimensions of the glass<br>\n",
        "h = 3cm, r = 1cm"
      ],
      "metadata": {
        "id": "eaql38ln13u7"
      }
    },
    {
      "cell_type": "code",
      "source": [
        "# Write your code here\n",
        "tank_length= float(input('Enter lenght of tank: '))\n",
        "tank_breadth = float(input('Enter breadth of tank: '))\n",
        "tank_height = float(input('Enter height of tank: '))\n",
        "\n",
        "glass_height = float(input('Enter height of glass: '))\n",
        "glass_radius = float(input('Enter radius of glass: '))\n",
        "\n",
        "tank_volume = tank_length * tank_breadth * tank_height\n",
        "glass_volume = 3.14 * (glass_radius)**2 * glass_height\n",
        "num_glasses = int(tank_volume / glass_volume)\n",
        "print(f\"number of glasses that can be filled: {num_glasses}\")"
      ],
      "metadata": {
        "id": "FePZqno74eWv",
        "outputId": "6f3357c7-300d-4510-8192-52d14f54cf43",
        "colab": {
          "base_uri": "https://localhost:8080/"
        }
      },
      "execution_count": 3,
      "outputs": [
        {
          "output_type": "stream",
          "name": "stdout",
          "text": [
            "Enter lenght of tank: 20\n",
            "Enter breadth of tank: 20\n",
            "Enter height of tank: 20\n",
            "Enter height of glass: 3\n",
            "Enter radius of glass: 1\n",
            "number of glasses that can be filled: 849.2569002123142\n"
          ]
        }
      ]
    }
  ]
}